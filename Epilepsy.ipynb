{
  "cells": [
    {
      "cell_type": "code",
      "execution_count": null,
      "metadata": {
        "id": "zC1fREZBoCsk"
      },
      "outputs": [],
      "source": [
        "!mkdir .kaggle\n"
      ]
    },
    {
      "cell_type": "code",
      "execution_count": null,
      "metadata": {
        "id": "3isMBOejoQbY"
      },
      "outputs": [],
      "source": [
        "import json\n",
        "token = {\"username\": \"triinutasa\", \"key\": \"0987fc18c8bc3b0d17e2b64581949d99\"}\n",
        "with open('/content/drive/MyDrive/kaggle.json', 'w') as file:\n",
        "    json.dump(token, file)"
      ]
    },
    {
      "cell_type": "markdown",
      "metadata": {
        "id": "IlBGpU4Fq2EV"
      },
      "source": [
        "# New Section"
      ]
    },
    {
      "cell_type": "code",
      "execution_count": null,
      "metadata": {
        "id": "9OrD1JbpoVYT"
      },
      "outputs": [],
      "source": [
        "!ls /content/.kaggle\n",
        "!mkdir /root/.kaggle"
      ]
    },
    {
      "cell_type": "code",
      "execution_count": null,
      "metadata": {
        "id": "uz8z0GcRpY7f"
      },
      "outputs": [],
      "source": [
        "!cp /content/drive/MyDrive/kaggle.json /root/.kaggle/kaggle.json\n"
      ]
    },
    {
      "cell_type": "code",
      "execution_count": null,
      "metadata": {
        "colab": {
          "base_uri": "https://localhost:8080/"
        },
        "id": "DJk5_Y9_pt9m",
        "outputId": "9f1e02c7-93e8-4839-c18b-3d0fc56c957f"
      },
      "outputs": [
        {
          "name": "stdout",
          "output_type": "stream",
          "text": [
            "- path is now set to: /content\n"
          ]
        }
      ],
      "source": [
        "!kaggle config set -n path -v /content\n",
        "!chmod 600 ~/.kaggle/kaggle.json"
      ]
    },
    {
      "cell_type": "code",
      "execution_count": null,
      "metadata": {
        "id": "yyLjq0_grpcK"
      },
      "outputs": [],
      "source": [
        "!cp /root/.kaggle/kaggle.json /content/.kaggle/kaggle.json"
      ]
    },
    {
      "cell_type": "code",
      "execution_count": null,
      "metadata": {
        "colab": {
          "base_uri": "https://localhost:8080/"
        },
        "id": "2LkSQHSWuqcM",
        "outputId": "5b564f27-e255-434b-df99-0d1654eb049f"
      },
      "outputs": [
        {
          "name": "stdout",
          "output_type": "stream",
          "text": [
            "Collecting tensorflow_addons\n",
            "  Downloading tensorflow_addons-0.15.0-cp37-cp37m-manylinux_2_12_x86_64.manylinux2010_x86_64.whl (1.1 MB)\n",
            "\u001b[?25l\r\u001b[K     |▎                               | 10 kB 22.4 MB/s eta 0:00:01\r\u001b[K     |▋                               | 20 kB 11.5 MB/s eta 0:00:01\r\u001b[K     |▉                               | 30 kB 9.3 MB/s eta 0:00:01\r\u001b[K     |█▏                              | 40 kB 8.4 MB/s eta 0:00:01\r\u001b[K     |█▌                              | 51 kB 5.3 MB/s eta 0:00:01\r\u001b[K     |█▊                              | 61 kB 5.5 MB/s eta 0:00:01\r\u001b[K     |██                              | 71 kB 5.3 MB/s eta 0:00:01\r\u001b[K     |██▍                             | 81 kB 6.0 MB/s eta 0:00:01\r\u001b[K     |██▋                             | 92 kB 5.7 MB/s eta 0:00:01\r\u001b[K     |███                             | 102 kB 5.0 MB/s eta 0:00:01\r\u001b[K     |███▎                            | 112 kB 5.0 MB/s eta 0:00:01\r\u001b[K     |███▌                            | 122 kB 5.0 MB/s eta 0:00:01\r\u001b[K     |███▉                            | 133 kB 5.0 MB/s eta 0:00:01\r\u001b[K     |████▏                           | 143 kB 5.0 MB/s eta 0:00:01\r\u001b[K     |████▍                           | 153 kB 5.0 MB/s eta 0:00:01\r\u001b[K     |████▊                           | 163 kB 5.0 MB/s eta 0:00:01\r\u001b[K     |█████                           | 174 kB 5.0 MB/s eta 0:00:01\r\u001b[K     |█████▎                          | 184 kB 5.0 MB/s eta 0:00:01\r\u001b[K     |█████▋                          | 194 kB 5.0 MB/s eta 0:00:01\r\u001b[K     |█████▉                          | 204 kB 5.0 MB/s eta 0:00:01\r\u001b[K     |██████▏                         | 215 kB 5.0 MB/s eta 0:00:01\r\u001b[K     |██████▌                         | 225 kB 5.0 MB/s eta 0:00:01\r\u001b[K     |██████▊                         | 235 kB 5.0 MB/s eta 0:00:01\r\u001b[K     |███████                         | 245 kB 5.0 MB/s eta 0:00:01\r\u001b[K     |███████▍                        | 256 kB 5.0 MB/s eta 0:00:01\r\u001b[K     |███████▋                        | 266 kB 5.0 MB/s eta 0:00:01\r\u001b[K     |████████                        | 276 kB 5.0 MB/s eta 0:00:01\r\u001b[K     |████████▎                       | 286 kB 5.0 MB/s eta 0:00:01\r\u001b[K     |████████▌                       | 296 kB 5.0 MB/s eta 0:00:01\r\u001b[K     |████████▉                       | 307 kB 5.0 MB/s eta 0:00:01\r\u001b[K     |█████████                       | 317 kB 5.0 MB/s eta 0:00:01\r\u001b[K     |█████████▍                      | 327 kB 5.0 MB/s eta 0:00:01\r\u001b[K     |█████████▊                      | 337 kB 5.0 MB/s eta 0:00:01\r\u001b[K     |██████████                      | 348 kB 5.0 MB/s eta 0:00:01\r\u001b[K     |██████████▎                     | 358 kB 5.0 MB/s eta 0:00:01\r\u001b[K     |██████████▋                     | 368 kB 5.0 MB/s eta 0:00:01\r\u001b[K     |██████████▉                     | 378 kB 5.0 MB/s eta 0:00:01\r\u001b[K     |███████████▏                    | 389 kB 5.0 MB/s eta 0:00:01\r\u001b[K     |███████████▌                    | 399 kB 5.0 MB/s eta 0:00:01\r\u001b[K     |███████████▊                    | 409 kB 5.0 MB/s eta 0:00:01\r\u001b[K     |████████████                    | 419 kB 5.0 MB/s eta 0:00:01\r\u001b[K     |████████████▍                   | 430 kB 5.0 MB/s eta 0:00:01\r\u001b[K     |████████████▋                   | 440 kB 5.0 MB/s eta 0:00:01\r\u001b[K     |█████████████                   | 450 kB 5.0 MB/s eta 0:00:01\r\u001b[K     |█████████████▎                  | 460 kB 5.0 MB/s eta 0:00:01\r\u001b[K     |█████████████▌                  | 471 kB 5.0 MB/s eta 0:00:01\r\u001b[K     |█████████████▉                  | 481 kB 5.0 MB/s eta 0:00:01\r\u001b[K     |██████████████                  | 491 kB 5.0 MB/s eta 0:00:01\r\u001b[K     |██████████████▍                 | 501 kB 5.0 MB/s eta 0:00:01\r\u001b[K     |██████████████▊                 | 512 kB 5.0 MB/s eta 0:00:01\r\u001b[K     |███████████████                 | 522 kB 5.0 MB/s eta 0:00:01\r\u001b[K     |███████████████▎                | 532 kB 5.0 MB/s eta 0:00:01\r\u001b[K     |███████████████▋                | 542 kB 5.0 MB/s eta 0:00:01\r\u001b[K     |███████████████▉                | 552 kB 5.0 MB/s eta 0:00:01\r\u001b[K     |████████████████▏               | 563 kB 5.0 MB/s eta 0:00:01\r\u001b[K     |████████████████▌               | 573 kB 5.0 MB/s eta 0:00:01\r\u001b[K     |████████████████▊               | 583 kB 5.0 MB/s eta 0:00:01\r\u001b[K     |█████████████████               | 593 kB 5.0 MB/s eta 0:00:01\r\u001b[K     |█████████████████▍              | 604 kB 5.0 MB/s eta 0:00:01\r\u001b[K     |█████████████████▋              | 614 kB 5.0 MB/s eta 0:00:01\r\u001b[K     |██████████████████              | 624 kB 5.0 MB/s eta 0:00:01\r\u001b[K     |██████████████████▏             | 634 kB 5.0 MB/s eta 0:00:01\r\u001b[K     |██████████████████▌             | 645 kB 5.0 MB/s eta 0:00:01\r\u001b[K     |██████████████████▉             | 655 kB 5.0 MB/s eta 0:00:01\r\u001b[K     |███████████████████             | 665 kB 5.0 MB/s eta 0:00:01\r\u001b[K     |███████████████████▍            | 675 kB 5.0 MB/s eta 0:00:01\r\u001b[K     |███████████████████▊            | 686 kB 5.0 MB/s eta 0:00:01\r\u001b[K     |████████████████████            | 696 kB 5.0 MB/s eta 0:00:01\r\u001b[K     |████████████████████▎           | 706 kB 5.0 MB/s eta 0:00:01\r\u001b[K     |████████████████████▋           | 716 kB 5.0 MB/s eta 0:00:01\r\u001b[K     |████████████████████▉           | 727 kB 5.0 MB/s eta 0:00:01\r\u001b[K     |█████████████████████▏          | 737 kB 5.0 MB/s eta 0:00:01\r\u001b[K     |█████████████████████▌          | 747 kB 5.0 MB/s eta 0:00:01\r\u001b[K     |█████████████████████▊          | 757 kB 5.0 MB/s eta 0:00:01\r\u001b[K     |██████████████████████          | 768 kB 5.0 MB/s eta 0:00:01\r\u001b[K     |██████████████████████▎         | 778 kB 5.0 MB/s eta 0:00:01\r\u001b[K     |██████████████████████▋         | 788 kB 5.0 MB/s eta 0:00:01\r\u001b[K     |███████████████████████         | 798 kB 5.0 MB/s eta 0:00:01\r\u001b[K     |███████████████████████▏        | 808 kB 5.0 MB/s eta 0:00:01\r\u001b[K     |███████████████████████▌        | 819 kB 5.0 MB/s eta 0:00:01\r\u001b[K     |███████████████████████▉        | 829 kB 5.0 MB/s eta 0:00:01\r\u001b[K     |████████████████████████        | 839 kB 5.0 MB/s eta 0:00:01\r\u001b[K     |████████████████████████▍       | 849 kB 5.0 MB/s eta 0:00:01\r\u001b[K     |████████████████████████▊       | 860 kB 5.0 MB/s eta 0:00:01\r\u001b[K     |█████████████████████████       | 870 kB 5.0 MB/s eta 0:00:01\r\u001b[K     |█████████████████████████▎      | 880 kB 5.0 MB/s eta 0:00:01\r\u001b[K     |█████████████████████████▋      | 890 kB 5.0 MB/s eta 0:00:01\r\u001b[K     |█████████████████████████▉      | 901 kB 5.0 MB/s eta 0:00:01\r\u001b[K     |██████████████████████████▏     | 911 kB 5.0 MB/s eta 0:00:01\r\u001b[K     |██████████████████████████▌     | 921 kB 5.0 MB/s eta 0:00:01\r\u001b[K     |██████████████████████████▊     | 931 kB 5.0 MB/s eta 0:00:01\r\u001b[K     |███████████████████████████     | 942 kB 5.0 MB/s eta 0:00:01\r\u001b[K     |███████████████████████████▎    | 952 kB 5.0 MB/s eta 0:00:01\r\u001b[K     |███████████████████████████▋    | 962 kB 5.0 MB/s eta 0:00:01\r\u001b[K     |████████████████████████████    | 972 kB 5.0 MB/s eta 0:00:01\r\u001b[K     |████████████████████████████▏   | 983 kB 5.0 MB/s eta 0:00:01\r\u001b[K     |████████████████████████████▌   | 993 kB 5.0 MB/s eta 0:00:01\r\u001b[K     |████████████████████████████▉   | 1.0 MB 5.0 MB/s eta 0:00:01\r\u001b[K     |█████████████████████████████   | 1.0 MB 5.0 MB/s eta 0:00:01\r\u001b[K     |█████████████████████████████▍  | 1.0 MB 5.0 MB/s eta 0:00:01\r\u001b[K     |█████████████████████████████▊  | 1.0 MB 5.0 MB/s eta 0:00:01\r\u001b[K     |██████████████████████████████  | 1.0 MB 5.0 MB/s eta 0:00:01\r\u001b[K     |██████████████████████████████▎ | 1.1 MB 5.0 MB/s eta 0:00:01\r\u001b[K     |██████████████████████████████▋ | 1.1 MB 5.0 MB/s eta 0:00:01\r\u001b[K     |██████████████████████████████▉ | 1.1 MB 5.0 MB/s eta 0:00:01\r\u001b[K     |███████████████████████████████▏| 1.1 MB 5.0 MB/s eta 0:00:01\r\u001b[K     |███████████████████████████████▍| 1.1 MB 5.0 MB/s eta 0:00:01\r\u001b[K     |███████████████████████████████▊| 1.1 MB 5.0 MB/s eta 0:00:01\r\u001b[K     |████████████████████████████████| 1.1 MB 5.0 MB/s \n",
            "\u001b[?25hRequirement already satisfied: typeguard>=2.7 in /usr/local/lib/python3.7/dist-packages (from tensorflow_addons) (2.7.1)\n",
            "Installing collected packages: tensorflow-addons\n",
            "Successfully installed tensorflow-addons-0.15.0\n"
          ]
        }
      ],
      "source": [
        "!pip install tensorflow_addons"
      ]
    },
    {
      "cell_type": "code",
      "execution_count": null,
      "metadata": {
        "colab": {
          "base_uri": "https://localhost:8080/"
        },
        "id": "M6a3NXsnt6TR",
        "outputId": "439a664e-e64a-4544-d055-61d8d7835a40"
      },
      "outputs": [
        {
          "name": "stdout",
          "output_type": "stream",
          "text": [
            "Number of replicas: 1\n",
            "2.7.0\n"
          ]
        }
      ],
      "source": [
        "import tensorflow as tf\n",
        "from tensorflow import keras\n",
        "from tensorflow.keras import layers\n",
        "import tensorflow_addons as tfa\n",
        "\n",
        "import matplotlib.pyplot as plt\n",
        "import numpy as np\n",
        "\n",
        "try:\n",
        "    tpu = tf.distribute.cluster_resolver.TPUClusterResolver()\n",
        "    print('Device:', tpu.master())\n",
        "    tf.config.experimental_connect_to_cluster(tpu)\n",
        "    tf.tpu.experimental.initialize_tpu_system(tpu)\n",
        "    strategy = tf.distribute.experimental.TPUStrategy(tpu)\n",
        "except:\n",
        "    strategy = tf.distribute.get_strategy()\n",
        "print('Number of replicas:', strategy.num_replicas_in_sync)\n",
        "\n",
        "AUTOTUNE = tf.data.experimental.AUTOTUNE\n",
        "    \n",
        "print(tf.__version__)"
      ]
    },
    {
      "cell_type": "code",
      "execution_count": null,
      "metadata": {
        "colab": {
          "base_uri": "https://localhost:8080/"
        },
        "id": "Ksypr6Yauxlx",
        "outputId": "8f7f628a-6906-45d9-a613-9b0693b52b2f"
      },
      "outputs": [
        {
          "name": "stdout",
          "output_type": "stream",
          "text": [
            "Zip Files: 0\n"
          ]
        }
      ],
      "source": [
        "GCS_PATH='/content/competitions/seizure-prediction'\n",
        "\n",
        "ZIP_FILES = GCS_PATH + '/*.zip'\n",
        "ZIP_FILENAMES = tf.io.gfile.glob(str(GCS_PATH + '/*.zip'))\n",
        "print('Zip Files:', len(ZIP_FILENAMES))\n",
        "\n"
      ]
    },
    {
      "cell_type": "markdown",
      "metadata": {
        "id": "oYga9Fbw8nqu"
      },
      "source": [
        "Visualizing one sample:"
      ]
    },
    {
      "cell_type": "code",
      "execution_count": 2,
      "metadata": {
        "id": "rCTVZpgL8p_9"
      },
      "outputs": [],
      "source": [
        "import numpy as np # linear algebra\n",
        "import pandas as pd # data processing, CSV file I/O (e.g. pd.read_csv)\n",
        "import matplotlib.pyplot as plt\n",
        "from matplotlib.collections import LineCollection\n",
        "from sklearn.preprocessing import StandardScaler\n",
        "from sklearn import decomposition\n",
        "\n",
        "\n",
        "import matplotlib as mpl\n",
        "from cycler import cycler\n",
        "import scipy.io"
      ]
    },
    {
      "cell_type": "code",
      "execution_count": null,
      "metadata": {
        "id": "XSBUUJ6ieeOV"
      },
      "outputs": [],
      "source": [
        "#Get all file names in the folder\n",
        "def load_data(data_path, subject, test_data=False):\n",
        "    read_dir = data_path + '/' + subject\n",
        "    filenames = sorted(os.listdir(read_dir))\n",
        "    train_filenames = []\n",
        "    for filename in filenames:\n",
        "        if test_data:\n",
        "          if 'test' in filename:\n",
        "            train_filenames.append(filename)\n",
        "        else:\n",
        "          if 'test' not in filename:\n",
        "            train_filenames.append(filename)\n",
        "\n",
        "    matfile = loadmat(read_dir + '/' + train_filenames[0], squeeze_me=True)\n",
        "    key_list = matfile.keys()\n",
        "    matching = [s for s in key_list if \"segment\" in s]\n",
        "    segment_name = matching[0]\n",
        "    data = matfile[segment_name].flat[0][0]\n",
        "    print(data.shape)\n",
        "    chnls = matfile[segment_name].flat[0][3]\n",
        "    n = len(train_filenames)*len(chnls)\n",
        "    x = np.zeros((n,data.shape[1]), dtype='float32')\n",
        "    y = np.zeros(n, dtype='int8')\n",
        "    channels = np.zeros(n, dtype='object')\n",
        "    \n",
        "    filename_to_idx = {}\n",
        "    idx = 0\n",
        "    for i, filename in enumerate(train_filenames):\n",
        "        matfile = loadmat(read_dir + '/' + filename, squeeze_me=True)\n",
        "        key_list = matfile.keys()\n",
        "        matching = [s for s in key_list if \"segment\" in s]\n",
        "        segment_name = matching[0]\n",
        "        data = matfile[segment_name].flat[0][0]\n",
        "        chnls = matfile[segment_name].flat[0][3]\n",
        "        for j,chnl in enumerate(chnls):\n",
        "          x[idx] = data[j]\n",
        "          y[idx] = 1 if 'preictal' in filename else 0\n",
        "          channels[idx] = chnl\n",
        "          filename_to_idx[subject + '/' + filename] = i\n",
        "          idx = idx + 1\n",
        "        # x[i] = data\n",
        "        # y[i] = 1 if 'preictal' in filename else 0\n",
        "        # filename_to_idx[subject + '/' + filename] = i\n",
        "        # channels[i] = chnls\n",
        "\n",
        "    return {'x': x, 'y': y, 'filename_to_idx': filename_to_idx, 'channels': channels}"
      ]
    },
    {
      "cell_type": "code",
      "execution_count": null,
      "metadata": {
        "colab": {
          "background_save": true
        },
        "id": "_AMqwtEvQ6yC"
      },
      "outputs": [],
      "source": [
        "def generate_pca_output(data_path, subject):\n",
        "    read_dir = data_path + '/' + subject\n",
        "    filenames = sorted(os.listdir(read_dir))\n",
        "    for filename in filenames:\n",
        "        matfile = loadmat(read_dir + '/' + filename, squeeze_me=True)\n",
        "        key_list = matfile.keys()\n",
        "        matching = [s for s in key_list if \"segment\" in s]\n",
        "        segment_name = matching[0]\n",
        "        data = matfile[segment_name].flat[0][0]\n",
        "        chnls = matfile[segment_name].flat[0][3]\n",
        "\n",
        "        df = pd.DataFrame(data.T, columns = chnls)\n",
        "\n",
        "        x_std = StandardScaler().fit_transform(df)\n",
        "        pca = decomposition.PCA(n_components=1)\n",
        "        pca_res = pca.fit_transform(x_std)\n",
        "        pca_res.tofile(read_dir + '/' + filename + '_pca.csv')\n"
      ]
    },
    {
      "cell_type": "code",
      "source": [
        "def load_pca_data(data_path, subject, test_data=False):\n",
        "  read_dir = data_path + '/' + subject\n",
        "  filenames = sorted(os.listdir(read_dir))\n",
        "  train_filenames = []\n",
        "  for filename in filenames:\n",
        "    if test_data:\n",
        "      if 'test' in filename:\n",
        "        train_filenames.append(filename)\n",
        "    else:\n",
        "      if 'test' not in filename:\n",
        "        train_filenames.append(filename)\n",
        "\n",
        "  df = pd.read_csv(read_dir + '/' + train_filenames[0], header=None)\n",
        "  print(df.shape)\n",
        "\n",
        "  n = len(train_filenames)\n",
        "  x = np.zeros((n,df.shape[0]), dtype='float32')\n",
        "  y = np.zeros(n, dtype='int8')\n",
        "  filename = np.zeros(n, dtype='object')\n",
        "  print(df[0])\n",
        "    \n",
        "  idx = 0\n",
        "  for i, fname in enumerate(train_filenames):\n",
        "    df = pd.read_csv(read_dir + '/' + train_filenames[0], header=None)\n",
        "    x[i] = df[0]\n",
        "    y[i] = 1 if 'preictal' in fname else 0\n",
        "    filename[i] = fname[:-8]\n",
        "\n",
        "  return {'x': x, 'y': y, 'filename': filename}\n",
        "  "
      ],
      "metadata": {
        "id": "6zU5L97cYdXI"
      },
      "execution_count": 29,
      "outputs": []
    },
    {
      "cell_type": "code",
      "execution_count": 30,
      "metadata": {
        "id": "ORYBnixkFPl-"
      },
      "outputs": [],
      "source": [
        "def load_train_data(data_path, subject):\n",
        "  return load_pca_data(data_path, subject)\n",
        "\n",
        "def load_test_data(data_path, subject):\n",
        "  return load_pca_data(data_path, subject, True)"
      ]
    },
    {
      "cell_type": "code",
      "execution_count": 19,
      "metadata": {
        "colab": {
          "base_uri": "https://localhost:8080/"
        },
        "id": "fWz6BVoQhWUk",
        "outputId": "97a17cd7-7775-4bf4-d49b-e0b62bd0c51c"
      },
      "outputs": [
        {
          "output_type": "stream",
          "name": "stdout",
          "text": [
            "(3000000, 1)\n",
            "0          0.709062\n",
            "1          0.740478\n",
            "2          0.798615\n",
            "3          0.809030\n",
            "4          0.757367\n",
            "             ...   \n",
            "2999995    5.709414\n",
            "2999996    5.741963\n",
            "2999997    5.822004\n",
            "2999998    5.905932\n",
            "2999999    5.977189\n",
            "Name: 0, Length: 3000000, dtype: float64\n"
          ]
        }
      ],
      "source": [
        "import os\n",
        "from scipy.io import loadmat\n",
        "train_data = load_train_data(\"./drive/MyDrive/kaggle_data\", \"Patient_2\")"
      ]
    },
    {
      "cell_type": "code",
      "execution_count": 31,
      "metadata": {
        "colab": {
          "base_uri": "https://localhost:8080/"
        },
        "id": "SwytlDIpkVzO",
        "outputId": "396bfa36-a0ea-4334-8a1c-b5c14709e77f"
      },
      "outputs": [
        {
          "output_type": "stream",
          "name": "stdout",
          "text": [
            "(3000000, 1)\n",
            "0         -2.013616\n",
            "1         -2.014401\n",
            "2         -2.014776\n",
            "3         -2.014215\n",
            "4         -2.011172\n",
            "             ...   \n",
            "2999995    0.065722\n",
            "2999996    0.069535\n",
            "2999997    0.074668\n",
            "2999998    0.076525\n",
            "2999999    0.074257\n",
            "Name: 0, Length: 3000000, dtype: float64\n"
          ]
        }
      ],
      "source": [
        "test_data = load_test_data(\"./drive/MyDrive/kaggle_data\", \"Patient_2\")"
      ]
    },
    {
      "cell_type": "code",
      "execution_count": 20,
      "metadata": {
        "colab": {
          "base_uri": "https://localhost:8080/"
        },
        "id": "bbuB0AGXForM",
        "outputId": "6859a4a6-342b-4b8f-bb9f-248a7ea00231"
      },
      "outputs": [
        {
          "output_type": "execute_result",
          "data": {
            "text/plain": [
              "(60, 3000000)"
            ]
          },
          "metadata": {},
          "execution_count": 20
        }
      ],
      "source": [
        "train_data['x'].shape"
      ]
    },
    {
      "cell_type": "code",
      "execution_count": null,
      "metadata": {
        "colab": {
          "base_uri": "https://localhost:8080/",
          "height": 299
        },
        "id": "3_li5kwCjYrM",
        "outputId": "8598bcfc-5780-49c1-c312-d18ab6e127e9"
      },
      "outputs": [
        {
          "data": {
            "text/html": [
              "\n",
              "  <div id=\"df-e56f27af-f707-494d-8d70-e3b81f67736c\">\n",
              "    <div class=\"colab-df-container\">\n",
              "      <div>\n",
              "<style scoped>\n",
              "    .dataframe tbody tr th:only-of-type {\n",
              "        vertical-align: middle;\n",
              "    }\n",
              "\n",
              "    .dataframe tbody tr th {\n",
              "        vertical-align: top;\n",
              "    }\n",
              "\n",
              "    .dataframe thead th {\n",
              "        text-align: right;\n",
              "    }\n",
              "</style>\n",
              "<table border=\"1\" class=\"dataframe\">\n",
              "  <thead>\n",
              "    <tr style=\"text-align: right;\">\n",
              "      <th></th>\n",
              "      <th>LD_1</th>\n",
              "      <th>LD_3</th>\n",
              "      <th>LD_4</th>\n",
              "      <th>LD_5</th>\n",
              "      <th>LD_6</th>\n",
              "      <th>LD_7</th>\n",
              "      <th>LD_8</th>\n",
              "      <th>RD_1</th>\n",
              "      <th>RD_2</th>\n",
              "      <th>RD_3</th>\n",
              "      <th>RD_4</th>\n",
              "      <th>RD_5</th>\n",
              "      <th>RD_6</th>\n",
              "      <th>RD_7</th>\n",
              "      <th>RD_8</th>\n",
              "      <th>LD_1</th>\n",
              "      <th>LD_3</th>\n",
              "      <th>LD_4</th>\n",
              "      <th>LD_5</th>\n",
              "      <th>LD_6</th>\n",
              "      <th>LD_7</th>\n",
              "      <th>LD_8</th>\n",
              "      <th>RD_1</th>\n",
              "      <th>RD_2</th>\n",
              "      <th>RD_3</th>\n",
              "      <th>RD_4</th>\n",
              "      <th>RD_5</th>\n",
              "      <th>RD_6</th>\n",
              "      <th>RD_7</th>\n",
              "      <th>RD_8</th>\n",
              "      <th>LD_1</th>\n",
              "      <th>LD_3</th>\n",
              "      <th>LD_4</th>\n",
              "      <th>LD_5</th>\n",
              "      <th>LD_6</th>\n",
              "      <th>LD_7</th>\n",
              "      <th>LD_8</th>\n",
              "      <th>RD_1</th>\n",
              "      <th>RD_2</th>\n",
              "      <th>RD_3</th>\n",
              "      <th>...</th>\n",
              "      <th>LD_7</th>\n",
              "      <th>LD_8</th>\n",
              "      <th>RD_1</th>\n",
              "      <th>RD_2</th>\n",
              "      <th>RD_3</th>\n",
              "      <th>RD_4</th>\n",
              "      <th>RD_5</th>\n",
              "      <th>RD_6</th>\n",
              "      <th>RD_7</th>\n",
              "      <th>RD_8</th>\n",
              "      <th>LD_1</th>\n",
              "      <th>LD_3</th>\n",
              "      <th>LD_4</th>\n",
              "      <th>LD_5</th>\n",
              "      <th>LD_6</th>\n",
              "      <th>LD_7</th>\n",
              "      <th>LD_8</th>\n",
              "      <th>RD_1</th>\n",
              "      <th>RD_2</th>\n",
              "      <th>RD_3</th>\n",
              "      <th>RD_4</th>\n",
              "      <th>RD_5</th>\n",
              "      <th>RD_6</th>\n",
              "      <th>RD_7</th>\n",
              "      <th>RD_8</th>\n",
              "      <th>LD_1</th>\n",
              "      <th>LD_3</th>\n",
              "      <th>LD_4</th>\n",
              "      <th>LD_5</th>\n",
              "      <th>LD_6</th>\n",
              "      <th>LD_7</th>\n",
              "      <th>LD_8</th>\n",
              "      <th>RD_1</th>\n",
              "      <th>RD_2</th>\n",
              "      <th>RD_3</th>\n",
              "      <th>RD_4</th>\n",
              "      <th>RD_5</th>\n",
              "      <th>RD_6</th>\n",
              "      <th>RD_7</th>\n",
              "      <th>RD_8</th>\n",
              "    </tr>\n",
              "  </thead>\n",
              "  <tbody>\n",
              "    <tr>\n",
              "      <th>0</th>\n",
              "      <td>122.0</td>\n",
              "      <td>641.0</td>\n",
              "      <td>358.0</td>\n",
              "      <td>351.0</td>\n",
              "      <td>299.0</td>\n",
              "      <td>99.0</td>\n",
              "      <td>227.0</td>\n",
              "      <td>533.0</td>\n",
              "      <td>935.0</td>\n",
              "      <td>581.0</td>\n",
              "      <td>1335.0</td>\n",
              "      <td>653.0</td>\n",
              "      <td>379.0</td>\n",
              "      <td>1425.0</td>\n",
              "      <td>589.0</td>\n",
              "      <td>-220.0</td>\n",
              "      <td>-297.0</td>\n",
              "      <td>-253.0</td>\n",
              "      <td>218.0</td>\n",
              "      <td>-545.0</td>\n",
              "      <td>16.0</td>\n",
              "      <td>145.0</td>\n",
              "      <td>-300.0</td>\n",
              "      <td>-1065.0</td>\n",
              "      <td>-48.0</td>\n",
              "      <td>-16.0</td>\n",
              "      <td>-838.0</td>\n",
              "      <td>-578.0</td>\n",
              "      <td>-1074.0</td>\n",
              "      <td>-651.0</td>\n",
              "      <td>68.0</td>\n",
              "      <td>135.0</td>\n",
              "      <td>-183.0</td>\n",
              "      <td>2489.0</td>\n",
              "      <td>1317.0</td>\n",
              "      <td>1762.0</td>\n",
              "      <td>1232.0</td>\n",
              "      <td>265.0</td>\n",
              "      <td>-62.0</td>\n",
              "      <td>189.0</td>\n",
              "      <td>...</td>\n",
              "      <td>-22841.0</td>\n",
              "      <td>-23011.0</td>\n",
              "      <td>-23314.0</td>\n",
              "      <td>-23242.0</td>\n",
              "      <td>-23130.0</td>\n",
              "      <td>-23296.0</td>\n",
              "      <td>-23270.0</td>\n",
              "      <td>-23156.0</td>\n",
              "      <td>-23457.0</td>\n",
              "      <td>-23383.0</td>\n",
              "      <td>-21341.0</td>\n",
              "      <td>-21321.0</td>\n",
              "      <td>-21589.0</td>\n",
              "      <td>-21755.0</td>\n",
              "      <td>-21949.0</td>\n",
              "      <td>-22019.0</td>\n",
              "      <td>-21728.0</td>\n",
              "      <td>-21170.0</td>\n",
              "      <td>-21569.0</td>\n",
              "      <td>-21681.0</td>\n",
              "      <td>-21177.0</td>\n",
              "      <td>-21505.0</td>\n",
              "      <td>-21590.0</td>\n",
              "      <td>-22156.0</td>\n",
              "      <td>-21283.0</td>\n",
              "      <td>13638.0</td>\n",
              "      <td>13163.0</td>\n",
              "      <td>13632.0</td>\n",
              "      <td>13230.0</td>\n",
              "      <td>13406.0</td>\n",
              "      <td>13441.0</td>\n",
              "      <td>13501.0</td>\n",
              "      <td>12605.0</td>\n",
              "      <td>12849.0</td>\n",
              "      <td>12723.0</td>\n",
              "      <td>12503.0</td>\n",
              "      <td>12358.0</td>\n",
              "      <td>11201.0</td>\n",
              "      <td>12460.0</td>\n",
              "      <td>12699.0</td>\n",
              "    </tr>\n",
              "    <tr>\n",
              "      <th>1</th>\n",
              "      <td>122.0</td>\n",
              "      <td>642.0</td>\n",
              "      <td>358.0</td>\n",
              "      <td>351.0</td>\n",
              "      <td>300.0</td>\n",
              "      <td>98.0</td>\n",
              "      <td>226.0</td>\n",
              "      <td>533.0</td>\n",
              "      <td>935.0</td>\n",
              "      <td>581.0</td>\n",
              "      <td>1335.0</td>\n",
              "      <td>653.0</td>\n",
              "      <td>380.0</td>\n",
              "      <td>1423.0</td>\n",
              "      <td>590.0</td>\n",
              "      <td>-219.0</td>\n",
              "      <td>-297.0</td>\n",
              "      <td>-253.0</td>\n",
              "      <td>218.0</td>\n",
              "      <td>-546.0</td>\n",
              "      <td>17.0</td>\n",
              "      <td>146.0</td>\n",
              "      <td>-300.0</td>\n",
              "      <td>-1065.0</td>\n",
              "      <td>-49.0</td>\n",
              "      <td>-15.0</td>\n",
              "      <td>-838.0</td>\n",
              "      <td>-578.0</td>\n",
              "      <td>-1074.0</td>\n",
              "      <td>-653.0</td>\n",
              "      <td>68.0</td>\n",
              "      <td>134.0</td>\n",
              "      <td>-184.0</td>\n",
              "      <td>2490.0</td>\n",
              "      <td>1317.0</td>\n",
              "      <td>1762.0</td>\n",
              "      <td>1233.0</td>\n",
              "      <td>265.0</td>\n",
              "      <td>-63.0</td>\n",
              "      <td>188.0</td>\n",
              "      <td>...</td>\n",
              "      <td>-26301.0</td>\n",
              "      <td>-26471.0</td>\n",
              "      <td>-26780.0</td>\n",
              "      <td>-26705.0</td>\n",
              "      <td>-26597.0</td>\n",
              "      <td>-26764.0</td>\n",
              "      <td>-26735.0</td>\n",
              "      <td>-26616.0</td>\n",
              "      <td>-26919.0</td>\n",
              "      <td>-26846.0</td>\n",
              "      <td>-18060.0</td>\n",
              "      <td>-18037.0</td>\n",
              "      <td>-18301.0</td>\n",
              "      <td>-18470.0</td>\n",
              "      <td>-18666.0</td>\n",
              "      <td>-18737.0</td>\n",
              "      <td>-18445.0</td>\n",
              "      <td>-17881.0</td>\n",
              "      <td>-18281.0</td>\n",
              "      <td>-18391.0</td>\n",
              "      <td>-17886.0</td>\n",
              "      <td>-18218.0</td>\n",
              "      <td>-18308.0</td>\n",
              "      <td>-18872.0</td>\n",
              "      <td>-17993.0</td>\n",
              "      <td>17166.0</td>\n",
              "      <td>16695.0</td>\n",
              "      <td>17163.0</td>\n",
              "      <td>16756.0</td>\n",
              "      <td>16933.0</td>\n",
              "      <td>16969.0</td>\n",
              "      <td>17031.0</td>\n",
              "      <td>16137.0</td>\n",
              "      <td>16382.0</td>\n",
              "      <td>16258.0</td>\n",
              "      <td>16038.0</td>\n",
              "      <td>15893.0</td>\n",
              "      <td>14728.0</td>\n",
              "      <td>15988.0</td>\n",
              "      <td>16234.0</td>\n",
              "    </tr>\n",
              "    <tr>\n",
              "      <th>2</th>\n",
              "      <td>122.0</td>\n",
              "      <td>642.0</td>\n",
              "      <td>356.0</td>\n",
              "      <td>350.0</td>\n",
              "      <td>300.0</td>\n",
              "      <td>98.0</td>\n",
              "      <td>225.0</td>\n",
              "      <td>534.0</td>\n",
              "      <td>935.0</td>\n",
              "      <td>582.0</td>\n",
              "      <td>1337.0</td>\n",
              "      <td>653.0</td>\n",
              "      <td>379.0</td>\n",
              "      <td>1422.0</td>\n",
              "      <td>591.0</td>\n",
              "      <td>-218.0</td>\n",
              "      <td>-297.0</td>\n",
              "      <td>-253.0</td>\n",
              "      <td>218.0</td>\n",
              "      <td>-545.0</td>\n",
              "      <td>19.0</td>\n",
              "      <td>146.0</td>\n",
              "      <td>-300.0</td>\n",
              "      <td>-1065.0</td>\n",
              "      <td>-49.0</td>\n",
              "      <td>-14.0</td>\n",
              "      <td>-838.0</td>\n",
              "      <td>-578.0</td>\n",
              "      <td>-1073.0</td>\n",
              "      <td>-655.0</td>\n",
              "      <td>68.0</td>\n",
              "      <td>133.0</td>\n",
              "      <td>-183.0</td>\n",
              "      <td>2491.0</td>\n",
              "      <td>1317.0</td>\n",
              "      <td>1762.0</td>\n",
              "      <td>1236.0</td>\n",
              "      <td>265.0</td>\n",
              "      <td>-62.0</td>\n",
              "      <td>188.0</td>\n",
              "      <td>...</td>\n",
              "      <td>-31526.0</td>\n",
              "      <td>-31696.0</td>\n",
              "      <td>-32010.0</td>\n",
              "      <td>-31939.0</td>\n",
              "      <td>-31832.0</td>\n",
              "      <td>-32001.0</td>\n",
              "      <td>-31972.0</td>\n",
              "      <td>-31841.0</td>\n",
              "      <td>-32150.0</td>\n",
              "      <td>-32093.0</td>\n",
              "      <td>-13354.0</td>\n",
              "      <td>-13328.0</td>\n",
              "      <td>-13590.0</td>\n",
              "      <td>-13767.0</td>\n",
              "      <td>-13962.0</td>\n",
              "      <td>-14033.0</td>\n",
              "      <td>-13735.0</td>\n",
              "      <td>-13169.0</td>\n",
              "      <td>-13570.0</td>\n",
              "      <td>-13680.0</td>\n",
              "      <td>-13169.0</td>\n",
              "      <td>-13506.0</td>\n",
              "      <td>-13602.0</td>\n",
              "      <td>-14166.0</td>\n",
              "      <td>-13276.0</td>\n",
              "      <td>21981.0</td>\n",
              "      <td>21518.0</td>\n",
              "      <td>21977.0</td>\n",
              "      <td>21567.0</td>\n",
              "      <td>21743.0</td>\n",
              "      <td>21787.0</td>\n",
              "      <td>21852.0</td>\n",
              "      <td>20964.0</td>\n",
              "      <td>21206.0</td>\n",
              "      <td>21075.0</td>\n",
              "      <td>20859.0</td>\n",
              "      <td>20713.0</td>\n",
              "      <td>19545.0</td>\n",
              "      <td>20800.0</td>\n",
              "      <td>21037.0</td>\n",
              "    </tr>\n",
              "    <tr>\n",
              "      <th>3</th>\n",
              "      <td>122.0</td>\n",
              "      <td>643.0</td>\n",
              "      <td>356.0</td>\n",
              "      <td>349.0</td>\n",
              "      <td>300.0</td>\n",
              "      <td>99.0</td>\n",
              "      <td>225.0</td>\n",
              "      <td>535.0</td>\n",
              "      <td>935.0</td>\n",
              "      <td>584.0</td>\n",
              "      <td>1339.0</td>\n",
              "      <td>654.0</td>\n",
              "      <td>379.0</td>\n",
              "      <td>1422.0</td>\n",
              "      <td>592.0</td>\n",
              "      <td>-217.0</td>\n",
              "      <td>-297.0</td>\n",
              "      <td>-252.0</td>\n",
              "      <td>218.0</td>\n",
              "      <td>-543.0</td>\n",
              "      <td>19.0</td>\n",
              "      <td>145.0</td>\n",
              "      <td>-298.0</td>\n",
              "      <td>-1064.0</td>\n",
              "      <td>-49.0</td>\n",
              "      <td>-14.0</td>\n",
              "      <td>-838.0</td>\n",
              "      <td>-579.0</td>\n",
              "      <td>-1073.0</td>\n",
              "      <td>-655.0</td>\n",
              "      <td>68.0</td>\n",
              "      <td>133.0</td>\n",
              "      <td>-183.0</td>\n",
              "      <td>2491.0</td>\n",
              "      <td>1317.0</td>\n",
              "      <td>1763.0</td>\n",
              "      <td>1237.0</td>\n",
              "      <td>264.0</td>\n",
              "      <td>-62.0</td>\n",
              "      <td>187.0</td>\n",
              "      <td>...</td>\n",
              "      <td>-34575.0</td>\n",
              "      <td>-34745.0</td>\n",
              "      <td>-35059.0</td>\n",
              "      <td>-34992.0</td>\n",
              "      <td>-34883.0</td>\n",
              "      <td>-35054.0</td>\n",
              "      <td>-35030.0</td>\n",
              "      <td>-34887.0</td>\n",
              "      <td>-35201.0</td>\n",
              "      <td>-35154.0</td>\n",
              "      <td>-10335.0</td>\n",
              "      <td>-10307.0</td>\n",
              "      <td>-10571.0</td>\n",
              "      <td>-10755.0</td>\n",
              "      <td>-10947.0</td>\n",
              "      <td>-11015.0</td>\n",
              "      <td>-10713.0</td>\n",
              "      <td>-10150.0</td>\n",
              "      <td>-10550.0</td>\n",
              "      <td>-10662.0</td>\n",
              "      <td>-10146.0</td>\n",
              "      <td>-10483.0</td>\n",
              "      <td>-10586.0</td>\n",
              "      <td>-11150.0</td>\n",
              "      <td>-10253.0</td>\n",
              "      <td>24413.0</td>\n",
              "      <td>23952.0</td>\n",
              "      <td>24409.0</td>\n",
              "      <td>23997.0</td>\n",
              "      <td>24172.0</td>\n",
              "      <td>24222.0</td>\n",
              "      <td>24287.0</td>\n",
              "      <td>23404.0</td>\n",
              "      <td>23644.0</td>\n",
              "      <td>23505.0</td>\n",
              "      <td>23291.0</td>\n",
              "      <td>23147.0</td>\n",
              "      <td>21977.0</td>\n",
              "      <td>23230.0</td>\n",
              "      <td>23456.0</td>\n",
              "    </tr>\n",
              "    <tr>\n",
              "      <th>4</th>\n",
              "      <td>124.0</td>\n",
              "      <td>644.0</td>\n",
              "      <td>357.0</td>\n",
              "      <td>350.0</td>\n",
              "      <td>300.0</td>\n",
              "      <td>101.0</td>\n",
              "      <td>228.0</td>\n",
              "      <td>536.0</td>\n",
              "      <td>937.0</td>\n",
              "      <td>586.0</td>\n",
              "      <td>1341.0</td>\n",
              "      <td>655.0</td>\n",
              "      <td>379.0</td>\n",
              "      <td>1422.0</td>\n",
              "      <td>592.0</td>\n",
              "      <td>-216.0</td>\n",
              "      <td>-298.0</td>\n",
              "      <td>-252.0</td>\n",
              "      <td>219.0</td>\n",
              "      <td>-542.0</td>\n",
              "      <td>19.0</td>\n",
              "      <td>143.0</td>\n",
              "      <td>-297.0</td>\n",
              "      <td>-1064.0</td>\n",
              "      <td>-48.0</td>\n",
              "      <td>-14.0</td>\n",
              "      <td>-838.0</td>\n",
              "      <td>-580.0</td>\n",
              "      <td>-1072.0</td>\n",
              "      <td>-654.0</td>\n",
              "      <td>67.0</td>\n",
              "      <td>133.0</td>\n",
              "      <td>-183.0</td>\n",
              "      <td>2489.0</td>\n",
              "      <td>1316.0</td>\n",
              "      <td>1763.0</td>\n",
              "      <td>1237.0</td>\n",
              "      <td>262.0</td>\n",
              "      <td>-63.0</td>\n",
              "      <td>184.0</td>\n",
              "      <td>...</td>\n",
              "      <td>-36934.0</td>\n",
              "      <td>-37106.0</td>\n",
              "      <td>-37420.0</td>\n",
              "      <td>-37355.0</td>\n",
              "      <td>-37241.0</td>\n",
              "      <td>-37416.0</td>\n",
              "      <td>-37398.0</td>\n",
              "      <td>-37246.0</td>\n",
              "      <td>-37559.0</td>\n",
              "      <td>-37508.0</td>\n",
              "      <td>-7342.0</td>\n",
              "      <td>-7312.0</td>\n",
              "      <td>-7576.0</td>\n",
              "      <td>-7768.0</td>\n",
              "      <td>-7958.0</td>\n",
              "      <td>-8023.0</td>\n",
              "      <td>-7717.0</td>\n",
              "      <td>-7157.0</td>\n",
              "      <td>-7555.0</td>\n",
              "      <td>-7669.0</td>\n",
              "      <td>-7152.0</td>\n",
              "      <td>-7485.0</td>\n",
              "      <td>-7599.0</td>\n",
              "      <td>-8161.0</td>\n",
              "      <td>-7259.0</td>\n",
              "      <td>25674.0</td>\n",
              "      <td>25210.0</td>\n",
              "      <td>25674.0</td>\n",
              "      <td>25256.0</td>\n",
              "      <td>25433.0</td>\n",
              "      <td>25483.0</td>\n",
              "      <td>25547.0</td>\n",
              "      <td>24667.0</td>\n",
              "      <td>24909.0</td>\n",
              "      <td>24765.0</td>\n",
              "      <td>24551.0</td>\n",
              "      <td>24409.0</td>\n",
              "      <td>23237.0</td>\n",
              "      <td>24492.0</td>\n",
              "      <td>24715.0</td>\n",
              "    </tr>\n",
              "  </tbody>\n",
              "</table>\n",
              "<p>5 rows × 180 columns</p>\n",
              "</div>\n",
              "      <button class=\"colab-df-convert\" onclick=\"convertToInteractive('df-e56f27af-f707-494d-8d70-e3b81f67736c')\"\n",
              "              title=\"Convert this dataframe to an interactive table.\"\n",
              "              style=\"display:none;\">\n",
              "        \n",
              "  <svg xmlns=\"http://www.w3.org/2000/svg\" height=\"24px\"viewBox=\"0 0 24 24\"\n",
              "       width=\"24px\">\n",
              "    <path d=\"M0 0h24v24H0V0z\" fill=\"none\"/>\n",
              "    <path d=\"M18.56 5.44l.94 2.06.94-2.06 2.06-.94-2.06-.94-.94-2.06-.94 2.06-2.06.94zm-11 1L8.5 8.5l.94-2.06 2.06-.94-2.06-.94L8.5 2.5l-.94 2.06-2.06.94zm10 10l.94 2.06.94-2.06 2.06-.94-2.06-.94-.94-2.06-.94 2.06-2.06.94z\"/><path d=\"M17.41 7.96l-1.37-1.37c-.4-.4-.92-.59-1.43-.59-.52 0-1.04.2-1.43.59L10.3 9.45l-7.72 7.72c-.78.78-.78 2.05 0 2.83L4 21.41c.39.39.9.59 1.41.59.51 0 1.02-.2 1.41-.59l7.78-7.78 2.81-2.81c.8-.78.8-2.07 0-2.86zM5.41 20L4 18.59l7.72-7.72 1.47 1.35L5.41 20z\"/>\n",
              "  </svg>\n",
              "      </button>\n",
              "      \n",
              "  <style>\n",
              "    .colab-df-container {\n",
              "      display:flex;\n",
              "      flex-wrap:wrap;\n",
              "      gap: 12px;\n",
              "    }\n",
              "\n",
              "    .colab-df-convert {\n",
              "      background-color: #E8F0FE;\n",
              "      border: none;\n",
              "      border-radius: 50%;\n",
              "      cursor: pointer;\n",
              "      display: none;\n",
              "      fill: #1967D2;\n",
              "      height: 32px;\n",
              "      padding: 0 0 0 0;\n",
              "      width: 32px;\n",
              "    }\n",
              "\n",
              "    .colab-df-convert:hover {\n",
              "      background-color: #E2EBFA;\n",
              "      box-shadow: 0px 1px 2px rgba(60, 64, 67, 0.3), 0px 1px 3px 1px rgba(60, 64, 67, 0.15);\n",
              "      fill: #174EA6;\n",
              "    }\n",
              "\n",
              "    [theme=dark] .colab-df-convert {\n",
              "      background-color: #3B4455;\n",
              "      fill: #D2E3FC;\n",
              "    }\n",
              "\n",
              "    [theme=dark] .colab-df-convert:hover {\n",
              "      background-color: #434B5C;\n",
              "      box-shadow: 0px 1px 3px 1px rgba(0, 0, 0, 0.15);\n",
              "      filter: drop-shadow(0px 1px 2px rgba(0, 0, 0, 0.3));\n",
              "      fill: #FFFFFF;\n",
              "    }\n",
              "  </style>\n",
              "\n",
              "      <script>\n",
              "        const buttonEl =\n",
              "          document.querySelector('#df-e56f27af-f707-494d-8d70-e3b81f67736c button.colab-df-convert');\n",
              "        buttonEl.style.display =\n",
              "          google.colab.kernel.accessAllowed ? 'block' : 'none';\n",
              "\n",
              "        async function convertToInteractive(key) {\n",
              "          const element = document.querySelector('#df-e56f27af-f707-494d-8d70-e3b81f67736c');\n",
              "          const dataTable =\n",
              "            await google.colab.kernel.invokeFunction('convertToInteractive',\n",
              "                                                     [key], {});\n",
              "          if (!dataTable) return;\n",
              "\n",
              "          const docLinkHtml = 'Like what you see? Visit the ' +\n",
              "            '<a target=\"_blank\" href=https://colab.research.google.com/notebooks/data_table.ipynb>data table notebook</a>'\n",
              "            + ' to learn more about interactive tables.';\n",
              "          element.innerHTML = '';\n",
              "          dataTable['output_type'] = 'display_data';\n",
              "          await google.colab.output.renderOutput(dataTable, element);\n",
              "          const docLink = document.createElement('div');\n",
              "          docLink.innerHTML = docLinkHtml;\n",
              "          element.appendChild(docLink);\n",
              "        }\n",
              "      </script>\n",
              "    </div>\n",
              "  </div>\n",
              "  "
            ],
            "text/plain": [
              "    LD_1   LD_3   LD_4   LD_5  ...     RD_5     RD_6     RD_7     RD_8\n",
              "0  122.0  641.0  358.0  351.0  ...  12358.0  11201.0  12460.0  12699.0\n",
              "1  122.0  642.0  358.0  351.0  ...  15893.0  14728.0  15988.0  16234.0\n",
              "2  122.0  642.0  356.0  350.0  ...  20713.0  19545.0  20800.0  21037.0\n",
              "3  122.0  643.0  356.0  349.0  ...  23147.0  21977.0  23230.0  23456.0\n",
              "4  124.0  644.0  357.0  350.0  ...  24409.0  23237.0  24492.0  24715.0\n",
              "\n",
              "[5 rows x 180 columns]"
            ]
          },
          "execution_count": 16,
          "metadata": {},
          "output_type": "execute_result"
        }
      ],
      "source": [
        "train_data['y'].shape\n",
        "df = pd.DataFrame(train_data['x'].T, columns = train_data['channels'])\n",
        "\n",
        "df.head()"
      ]
    },
    {
      "cell_type": "code",
      "execution_count": null,
      "metadata": {
        "colab": {
          "base_uri": "https://localhost:8080/",
          "height": 398
        },
        "id": "DqqXaDC6oAnb",
        "outputId": "96e9aa44-29b9-4e84-8116-d153e5862a28"
      },
      "outputs": [
        {
          "ename": "KeyboardInterrupt",
          "evalue": "ignored",
          "output_type": "error",
          "traceback": [
            "\u001b[0;31m---------------------------------------------------------------------------\u001b[0m",
            "\u001b[0;31mKeyboardInterrupt\u001b[0m                         Traceback (most recent call last)",
            "\u001b[0;32m<ipython-input-17-4da78267be07>\u001b[0m in \u001b[0;36m<module>\u001b[0;34m()\u001b[0m\n\u001b[0;32m----> 1\u001b[0;31m \u001b[0mx_std\u001b[0m \u001b[0;34m=\u001b[0m \u001b[0mStandardScaler\u001b[0m\u001b[0;34m(\u001b[0m\u001b[0;34m)\u001b[0m\u001b[0;34m.\u001b[0m\u001b[0mfit_transform\u001b[0m\u001b[0;34m(\u001b[0m\u001b[0mdf\u001b[0m\u001b[0;34m)\u001b[0m\u001b[0;34m\u001b[0m\u001b[0;34m\u001b[0m\u001b[0m\n\u001b[0m\u001b[1;32m      2\u001b[0m \u001b[0mpca\u001b[0m \u001b[0;34m=\u001b[0m \u001b[0mdecomposition\u001b[0m\u001b[0;34m.\u001b[0m\u001b[0mPCA\u001b[0m\u001b[0;34m(\u001b[0m\u001b[0;36m.90\u001b[0m\u001b[0;34m)\u001b[0m\u001b[0;34m\u001b[0m\u001b[0;34m\u001b[0m\u001b[0m\n\u001b[1;32m      3\u001b[0m \u001b[0mpca_res\u001b[0m \u001b[0;34m=\u001b[0m \u001b[0mpca\u001b[0m\u001b[0;34m.\u001b[0m\u001b[0mfit_transform\u001b[0m\u001b[0;34m(\u001b[0m\u001b[0mx_std\u001b[0m\u001b[0;34m)\u001b[0m\u001b[0;34m\u001b[0m\u001b[0;34m\u001b[0m\u001b[0m\n",
            "\u001b[0;32m/usr/local/lib/python3.7/dist-packages/sklearn/base.py\u001b[0m in \u001b[0;36mfit_transform\u001b[0;34m(self, X, y, **fit_params)\u001b[0m\n\u001b[1;32m    850\u001b[0m         \u001b[0;32mif\u001b[0m \u001b[0my\u001b[0m \u001b[0;32mis\u001b[0m \u001b[0;32mNone\u001b[0m\u001b[0;34m:\u001b[0m\u001b[0;34m\u001b[0m\u001b[0;34m\u001b[0m\u001b[0m\n\u001b[1;32m    851\u001b[0m             \u001b[0;31m# fit method of arity 1 (unsupervised transformation)\u001b[0m\u001b[0;34m\u001b[0m\u001b[0;34m\u001b[0m\u001b[0;34m\u001b[0m\u001b[0m\n\u001b[0;32m--> 852\u001b[0;31m             \u001b[0;32mreturn\u001b[0m \u001b[0mself\u001b[0m\u001b[0;34m.\u001b[0m\u001b[0mfit\u001b[0m\u001b[0;34m(\u001b[0m\u001b[0mX\u001b[0m\u001b[0;34m,\u001b[0m \u001b[0;34m**\u001b[0m\u001b[0mfit_params\u001b[0m\u001b[0;34m)\u001b[0m\u001b[0;34m.\u001b[0m\u001b[0mtransform\u001b[0m\u001b[0;34m(\u001b[0m\u001b[0mX\u001b[0m\u001b[0;34m)\u001b[0m\u001b[0;34m\u001b[0m\u001b[0;34m\u001b[0m\u001b[0m\n\u001b[0m\u001b[1;32m    853\u001b[0m         \u001b[0;32melse\u001b[0m\u001b[0;34m:\u001b[0m\u001b[0;34m\u001b[0m\u001b[0;34m\u001b[0m\u001b[0m\n\u001b[1;32m    854\u001b[0m             \u001b[0;31m# fit method of arity 2 (supervised transformation)\u001b[0m\u001b[0;34m\u001b[0m\u001b[0;34m\u001b[0m\u001b[0;34m\u001b[0m\u001b[0m\n",
            "\u001b[0;32m/usr/local/lib/python3.7/dist-packages/sklearn/preprocessing/_data.py\u001b[0m in \u001b[0;36mtransform\u001b[0;34m(self, X, copy)\u001b[0m\n\u001b[1;32m    978\u001b[0m             \u001b[0mestimator\u001b[0m\u001b[0;34m=\u001b[0m\u001b[0mself\u001b[0m\u001b[0;34m,\u001b[0m\u001b[0;34m\u001b[0m\u001b[0;34m\u001b[0m\u001b[0m\n\u001b[1;32m    979\u001b[0m             \u001b[0mdtype\u001b[0m\u001b[0;34m=\u001b[0m\u001b[0mFLOAT_DTYPES\u001b[0m\u001b[0;34m,\u001b[0m\u001b[0;34m\u001b[0m\u001b[0;34m\u001b[0m\u001b[0m\n\u001b[0;32m--> 980\u001b[0;31m             \u001b[0mforce_all_finite\u001b[0m\u001b[0;34m=\u001b[0m\u001b[0;34m\"allow-nan\"\u001b[0m\u001b[0;34m,\u001b[0m\u001b[0;34m\u001b[0m\u001b[0;34m\u001b[0m\u001b[0m\n\u001b[0m\u001b[1;32m    981\u001b[0m         )\n\u001b[1;32m    982\u001b[0m \u001b[0;34m\u001b[0m\u001b[0m\n",
            "\u001b[0;32m/usr/local/lib/python3.7/dist-packages/sklearn/base.py\u001b[0m in \u001b[0;36m_validate_data\u001b[0;34m(self, X, y, reset, validate_separately, **check_params)\u001b[0m\n\u001b[1;32m    564\u001b[0m             \u001b[0;32mraise\u001b[0m \u001b[0mValueError\u001b[0m\u001b[0;34m(\u001b[0m\u001b[0;34m\"Validation should be done on X, y or both.\"\u001b[0m\u001b[0;34m)\u001b[0m\u001b[0;34m\u001b[0m\u001b[0;34m\u001b[0m\u001b[0m\n\u001b[1;32m    565\u001b[0m         \u001b[0;32melif\u001b[0m \u001b[0;32mnot\u001b[0m \u001b[0mno_val_X\u001b[0m \u001b[0;32mand\u001b[0m \u001b[0mno_val_y\u001b[0m\u001b[0;34m:\u001b[0m\u001b[0;34m\u001b[0m\u001b[0;34m\u001b[0m\u001b[0m\n\u001b[0;32m--> 566\u001b[0;31m             \u001b[0mX\u001b[0m \u001b[0;34m=\u001b[0m \u001b[0mcheck_array\u001b[0m\u001b[0;34m(\u001b[0m\u001b[0mX\u001b[0m\u001b[0;34m,\u001b[0m \u001b[0;34m**\u001b[0m\u001b[0mcheck_params\u001b[0m\u001b[0;34m)\u001b[0m\u001b[0;34m\u001b[0m\u001b[0;34m\u001b[0m\u001b[0m\n\u001b[0m\u001b[1;32m    567\u001b[0m             \u001b[0mout\u001b[0m \u001b[0;34m=\u001b[0m \u001b[0mX\u001b[0m\u001b[0;34m\u001b[0m\u001b[0;34m\u001b[0m\u001b[0m\n\u001b[1;32m    568\u001b[0m         \u001b[0;32melif\u001b[0m \u001b[0mno_val_X\u001b[0m \u001b[0;32mand\u001b[0m \u001b[0;32mnot\u001b[0m \u001b[0mno_val_y\u001b[0m\u001b[0;34m:\u001b[0m\u001b[0;34m\u001b[0m\u001b[0;34m\u001b[0m\u001b[0m\n",
            "\u001b[0;32m/usr/local/lib/python3.7/dist-packages/sklearn/utils/validation.py\u001b[0m in \u001b[0;36mcheck_array\u001b[0;34m(array, accept_sparse, accept_large_sparse, dtype, order, copy, force_all_finite, ensure_2d, allow_nd, ensure_min_samples, ensure_min_features, estimator)\u001b[0m\n\u001b[1;32m    798\u001b[0m \u001b[0;34m\u001b[0m\u001b[0m\n\u001b[1;32m    799\u001b[0m         \u001b[0;32mif\u001b[0m \u001b[0mforce_all_finite\u001b[0m\u001b[0;34m:\u001b[0m\u001b[0;34m\u001b[0m\u001b[0;34m\u001b[0m\u001b[0m\n\u001b[0;32m--> 800\u001b[0;31m             \u001b[0m_assert_all_finite\u001b[0m\u001b[0;34m(\u001b[0m\u001b[0marray\u001b[0m\u001b[0;34m,\u001b[0m \u001b[0mallow_nan\u001b[0m\u001b[0;34m=\u001b[0m\u001b[0mforce_all_finite\u001b[0m \u001b[0;34m==\u001b[0m \u001b[0;34m\"allow-nan\"\u001b[0m\u001b[0;34m)\u001b[0m\u001b[0;34m\u001b[0m\u001b[0;34m\u001b[0m\u001b[0m\n\u001b[0m\u001b[1;32m    801\u001b[0m \u001b[0;34m\u001b[0m\u001b[0m\n\u001b[1;32m    802\u001b[0m     \u001b[0;32mif\u001b[0m \u001b[0mensure_min_samples\u001b[0m \u001b[0;34m>\u001b[0m \u001b[0;36m0\u001b[0m\u001b[0;34m:\u001b[0m\u001b[0;34m\u001b[0m\u001b[0;34m\u001b[0m\u001b[0m\n",
            "\u001b[0;32m/usr/local/lib/python3.7/dist-packages/sklearn/utils/validation.py\u001b[0m in \u001b[0;36m_assert_all_finite\u001b[0;34m(X, allow_nan, msg_dtype)\u001b[0m\n\u001b[1;32m    101\u001b[0m     \u001b[0;31m# safely to reduce dtype induced overflows.\u001b[0m\u001b[0;34m\u001b[0m\u001b[0;34m\u001b[0m\u001b[0;34m\u001b[0m\u001b[0m\n\u001b[1;32m    102\u001b[0m     \u001b[0mis_float\u001b[0m \u001b[0;34m=\u001b[0m \u001b[0mX\u001b[0m\u001b[0;34m.\u001b[0m\u001b[0mdtype\u001b[0m\u001b[0;34m.\u001b[0m\u001b[0mkind\u001b[0m \u001b[0;32min\u001b[0m \u001b[0;34m\"fc\"\u001b[0m\u001b[0;34m\u001b[0m\u001b[0;34m\u001b[0m\u001b[0m\n\u001b[0;32m--> 103\u001b[0;31m     \u001b[0;32mif\u001b[0m \u001b[0mis_float\u001b[0m \u001b[0;32mand\u001b[0m \u001b[0;34m(\u001b[0m\u001b[0mnp\u001b[0m\u001b[0;34m.\u001b[0m\u001b[0misfinite\u001b[0m\u001b[0;34m(\u001b[0m\u001b[0m_safe_accumulator_op\u001b[0m\u001b[0;34m(\u001b[0m\u001b[0mnp\u001b[0m\u001b[0;34m.\u001b[0m\u001b[0msum\u001b[0m\u001b[0;34m,\u001b[0m \u001b[0mX\u001b[0m\u001b[0;34m)\u001b[0m\u001b[0;34m)\u001b[0m\u001b[0;34m)\u001b[0m\u001b[0;34m:\u001b[0m\u001b[0;34m\u001b[0m\u001b[0;34m\u001b[0m\u001b[0m\n\u001b[0m\u001b[1;32m    104\u001b[0m         \u001b[0;32mpass\u001b[0m\u001b[0;34m\u001b[0m\u001b[0;34m\u001b[0m\u001b[0m\n\u001b[1;32m    105\u001b[0m     \u001b[0;32melif\u001b[0m \u001b[0mis_float\u001b[0m\u001b[0;34m:\u001b[0m\u001b[0;34m\u001b[0m\u001b[0;34m\u001b[0m\u001b[0m\n",
            "\u001b[0;32m/usr/local/lib/python3.7/dist-packages/sklearn/utils/extmath.py\u001b[0m in \u001b[0;36m_safe_accumulator_op\u001b[0;34m(op, x, *args, **kwargs)\u001b[0m\n\u001b[1;32m    891\u001b[0m     \"\"\"\n\u001b[1;32m    892\u001b[0m     \u001b[0;32mif\u001b[0m \u001b[0mnp\u001b[0m\u001b[0;34m.\u001b[0m\u001b[0missubdtype\u001b[0m\u001b[0;34m(\u001b[0m\u001b[0mx\u001b[0m\u001b[0;34m.\u001b[0m\u001b[0mdtype\u001b[0m\u001b[0;34m,\u001b[0m \u001b[0mnp\u001b[0m\u001b[0;34m.\u001b[0m\u001b[0mfloating\u001b[0m\u001b[0;34m)\u001b[0m \u001b[0;32mand\u001b[0m \u001b[0mx\u001b[0m\u001b[0;34m.\u001b[0m\u001b[0mdtype\u001b[0m\u001b[0;34m.\u001b[0m\u001b[0mitemsize\u001b[0m \u001b[0;34m<\u001b[0m \u001b[0;36m8\u001b[0m\u001b[0;34m:\u001b[0m\u001b[0;34m\u001b[0m\u001b[0;34m\u001b[0m\u001b[0m\n\u001b[0;32m--> 893\u001b[0;31m         \u001b[0mresult\u001b[0m \u001b[0;34m=\u001b[0m \u001b[0mop\u001b[0m\u001b[0;34m(\u001b[0m\u001b[0mx\u001b[0m\u001b[0;34m,\u001b[0m \u001b[0;34m*\u001b[0m\u001b[0margs\u001b[0m\u001b[0;34m,\u001b[0m \u001b[0;34m**\u001b[0m\u001b[0mkwargs\u001b[0m\u001b[0;34m,\u001b[0m \u001b[0mdtype\u001b[0m\u001b[0;34m=\u001b[0m\u001b[0mnp\u001b[0m\u001b[0;34m.\u001b[0m\u001b[0mfloat64\u001b[0m\u001b[0;34m)\u001b[0m\u001b[0;34m\u001b[0m\u001b[0;34m\u001b[0m\u001b[0m\n\u001b[0m\u001b[1;32m    894\u001b[0m     \u001b[0;32melse\u001b[0m\u001b[0;34m:\u001b[0m\u001b[0;34m\u001b[0m\u001b[0;34m\u001b[0m\u001b[0m\n\u001b[1;32m    895\u001b[0m         \u001b[0mresult\u001b[0m \u001b[0;34m=\u001b[0m \u001b[0mop\u001b[0m\u001b[0;34m(\u001b[0m\u001b[0mx\u001b[0m\u001b[0;34m,\u001b[0m \u001b[0;34m*\u001b[0m\u001b[0margs\u001b[0m\u001b[0;34m,\u001b[0m \u001b[0;34m**\u001b[0m\u001b[0mkwargs\u001b[0m\u001b[0;34m)\u001b[0m\u001b[0;34m\u001b[0m\u001b[0;34m\u001b[0m\u001b[0m\n",
            "\u001b[0;32m<__array_function__ internals>\u001b[0m in \u001b[0;36msum\u001b[0;34m(*args, **kwargs)\u001b[0m\n",
            "\u001b[0;32m/usr/local/lib/python3.7/dist-packages/numpy/core/fromnumeric.py\u001b[0m in \u001b[0;36msum\u001b[0;34m(a, axis, dtype, out, keepdims, initial, where)\u001b[0m\n\u001b[1;32m   2240\u001b[0m \u001b[0;34m\u001b[0m\u001b[0m\n\u001b[1;32m   2241\u001b[0m     return _wrapreduction(a, np.add, 'sum', axis, dtype, out, keepdims=keepdims,\n\u001b[0;32m-> 2242\u001b[0;31m                           initial=initial, where=where)\n\u001b[0m\u001b[1;32m   2243\u001b[0m \u001b[0;34m\u001b[0m\u001b[0m\n\u001b[1;32m   2244\u001b[0m \u001b[0;34m\u001b[0m\u001b[0m\n",
            "\u001b[0;32m/usr/local/lib/python3.7/dist-packages/numpy/core/fromnumeric.py\u001b[0m in \u001b[0;36m_wrapreduction\u001b[0;34m(obj, ufunc, method, axis, dtype, out, **kwargs)\u001b[0m\n\u001b[1;32m     85\u001b[0m                 \u001b[0;32mreturn\u001b[0m \u001b[0mreduction\u001b[0m\u001b[0;34m(\u001b[0m\u001b[0maxis\u001b[0m\u001b[0;34m=\u001b[0m\u001b[0maxis\u001b[0m\u001b[0;34m,\u001b[0m \u001b[0mout\u001b[0m\u001b[0;34m=\u001b[0m\u001b[0mout\u001b[0m\u001b[0;34m,\u001b[0m \u001b[0;34m**\u001b[0m\u001b[0mpasskwargs\u001b[0m\u001b[0;34m)\u001b[0m\u001b[0;34m\u001b[0m\u001b[0;34m\u001b[0m\u001b[0m\n\u001b[1;32m     86\u001b[0m \u001b[0;34m\u001b[0m\u001b[0m\n\u001b[0;32m---> 87\u001b[0;31m     \u001b[0;32mreturn\u001b[0m \u001b[0mufunc\u001b[0m\u001b[0;34m.\u001b[0m\u001b[0mreduce\u001b[0m\u001b[0;34m(\u001b[0m\u001b[0mobj\u001b[0m\u001b[0;34m,\u001b[0m \u001b[0maxis\u001b[0m\u001b[0;34m,\u001b[0m \u001b[0mdtype\u001b[0m\u001b[0;34m,\u001b[0m \u001b[0mout\u001b[0m\u001b[0;34m,\u001b[0m \u001b[0;34m**\u001b[0m\u001b[0mpasskwargs\u001b[0m\u001b[0;34m)\u001b[0m\u001b[0;34m\u001b[0m\u001b[0;34m\u001b[0m\u001b[0m\n\u001b[0m\u001b[1;32m     88\u001b[0m \u001b[0;34m\u001b[0m\u001b[0m\n\u001b[1;32m     89\u001b[0m \u001b[0;34m\u001b[0m\u001b[0m\n",
            "\u001b[0;31mKeyboardInterrupt\u001b[0m: "
          ]
        }
      ],
      "source": [
        "x_std = StandardScaler().fit_transform(df)\n",
        "pca = decomposition.PCA(n_components=1)\n",
        "pca_res = pca.fit_transform(x_std)"
      ]
    },
    {
      "cell_type": "code",
      "execution_count": null,
      "metadata": {
        "id": "wJ5Cl6N5pX4H"
      },
      "outputs": [],
      "source": [
        "pca_res.shape"
      ]
    },
    {
      "cell_type": "code",
      "execution_count": 21,
      "metadata": {
        "id": "aDujlHs_10zF",
        "colab": {
          "base_uri": "https://localhost:8080/"
        },
        "outputId": "deb9f5a0-6cff-4ccb-9927-4ff326a4ec8b"
      },
      "outputs": [
        {
          "output_type": "execute_result",
          "data": {
            "text/plain": [
              "RandomForestClassifier()"
            ]
          },
          "metadata": {},
          "execution_count": 21
        }
      ],
      "source": [
        "from sklearn.ensemble import RandomForestClassifier\n",
        "clf=RandomForestClassifier(n_estimators=100)\n",
        "\n",
        "#Train the model using the training sets y_pred=clf.predict(X_test)\n",
        "clf.fit(train_data['x'],train_data['y'])\n",
        "\n"
      ]
    },
    {
      "cell_type": "code",
      "execution_count": 8,
      "metadata": {
        "id": "y_3iSC23_Rw-",
        "colab": {
          "base_uri": "https://localhost:8080/",
          "height": 166
        },
        "outputId": "15f8af6e-7db3-4e51-c35e-95f075d82c80"
      },
      "outputs": [
        {
          "output_type": "error",
          "ename": "NameError",
          "evalue": "ignored",
          "traceback": [
            "\u001b[0;31m---------------------------------------------------------------------------\u001b[0m",
            "\u001b[0;31mNameError\u001b[0m                                 Traceback (most recent call last)",
            "\u001b[0;32m<ipython-input-8-775109e2f4c2>\u001b[0m in \u001b[0;36m<module>\u001b[0;34m()\u001b[0m\n\u001b[0;32m----> 1\u001b[0;31m \u001b[0my_pred\u001b[0m\u001b[0;34m=\u001b[0m\u001b[0mclf\u001b[0m\u001b[0;34m.\u001b[0m\u001b[0mpredict\u001b[0m\u001b[0;34m(\u001b[0m\u001b[0mtest_data\u001b[0m\u001b[0;34m[\u001b[0m\u001b[0;34m'x'\u001b[0m\u001b[0;34m]\u001b[0m\u001b[0;34m)\u001b[0m\u001b[0;34m\u001b[0m\u001b[0;34m\u001b[0m\u001b[0m\n\u001b[0m",
            "\u001b[0;31mNameError\u001b[0m: name 'test_data' is not defined"
          ]
        }
      ],
      "source": [
        "y_pred=clf.predict(test_data['x'])"
      ]
    },
    {
      "cell_type": "code",
      "execution_count": 9,
      "metadata": {
        "id": "SuF6O5nUF5NF",
        "colab": {
          "base_uri": "https://localhost:8080/"
        },
        "outputId": "c0c6c554-13d2-4646-fb5d-6ba121d62574"
      },
      "outputs": [
        {
          "output_type": "execute_result",
          "data": {
            "text/plain": [
              "{'Patient_2/Patient_2_interictal_segment_0001.mat_pca.csv': 0}"
            ]
          },
          "metadata": {},
          "execution_count": 9
        }
      ],
      "source": [
        "train_data['filename_to_idx']"
      ]
    },
    {
      "cell_type": "code",
      "execution_count": null,
      "metadata": {
        "colab": {
          "base_uri": "https://localhost:8080/"
        },
        "id": "No4ZkUbBJEYY",
        "outputId": "a8b6248d-51cd-44fa-92be-336ac8524b25"
      },
      "outputs": [
        {
          "name": "stdout",
          "output_type": "stream",
          "text": [
            "Collecting pyts\n",
            "  Downloading pyts-0.12.0-py3-none-any.whl (2.5 MB)\n",
            "\u001b[K     |████████████████████████████████| 2.5 MB 5.1 MB/s \n",
            "\u001b[?25hRequirement already satisfied: joblib>=0.12 in /usr/local/lib/python3.7/dist-packages (from pyts) (1.1.0)\n",
            "Requirement already satisfied: numpy>=1.17.5 in /usr/local/lib/python3.7/dist-packages (from pyts) (1.19.5)\n",
            "Requirement already satisfied: scikit-learn>=0.22.1 in /usr/local/lib/python3.7/dist-packages (from pyts) (1.0.2)\n",
            "Requirement already satisfied: scipy>=1.3.0 in /usr/local/lib/python3.7/dist-packages (from pyts) (1.4.1)\n",
            "Requirement already satisfied: numba>=0.48.0 in /usr/local/lib/python3.7/dist-packages (from pyts) (0.51.2)\n",
            "Requirement already satisfied: setuptools in /usr/local/lib/python3.7/dist-packages (from numba>=0.48.0->pyts) (57.4.0)\n",
            "Requirement already satisfied: llvmlite<0.35,>=0.34.0.dev0 in /usr/local/lib/python3.7/dist-packages (from numba>=0.48.0->pyts) (0.34.0)\n",
            "Requirement already satisfied: threadpoolctl>=2.0.0 in /usr/local/lib/python3.7/dist-packages (from scikit-learn>=0.22.1->pyts) (3.0.0)\n",
            "Installing collected packages: pyts\n",
            "Successfully installed pyts-0.12.0\n"
          ]
        }
      ],
      "source": [
        "!pip install pyts"
      ]
    },
    {
      "cell_type": "code",
      "execution_count": null,
      "metadata": {
        "id": "xX6XqICeIzuF"
      },
      "outputs": [],
      "source": [
        "from pyts.datasets import load_gunpoint\n",
        "from pyts.classification import TimeSeriesForest\n",
        "X_train, X_test, y_train, y_test = load_gunpoint(return_X_y=True)\n"
      ]
    },
    {
      "cell_type": "code",
      "execution_count": null,
      "metadata": {
        "id": "ikmxZTpkJeYQ"
      },
      "outputs": [],
      "source": [
        "from pyts.classification import TimeSeriesForest\n",
        "clf = TimeSeriesForest(n_estimators=100, random_state=43)\n",
        "clf.fit(train_data['x'],train_data['y'])\n"
      ]
    },
    {
      "cell_type": "code",
      "execution_count": 33,
      "metadata": {
        "colab": {
          "base_uri": "https://localhost:8080/"
        },
        "id": "rkaX2WK1JJ91",
        "outputId": "55de0ec1-0404-439d-ba5f-051758608314"
      },
      "outputs": [
        {
          "output_type": "execute_result",
          "data": {
            "text/plain": [
              "array([0, 0, 0, 0, 0, 0, 0, 0, 0, 0], dtype=int8)"
            ]
          },
          "metadata": {},
          "execution_count": 33
        }
      ],
      "source": [
        "clf_res = clf.predict(test_data['x'])\n",
        "clf_res"
      ]
    },
    {
      "cell_type": "code",
      "source": [
        "results = pd.DataFrame(list(zip(test_data['filename'], clf_res)), columns =['clip', 'preictal'])\n",
        "results"
      ],
      "metadata": {
        "colab": {
          "base_uri": "https://localhost:8080/",
          "height": 363
        },
        "id": "TXa2c3G21kMT",
        "outputId": "c5f8432c-e37e-4c08-aac0-c90e42006ca2"
      },
      "execution_count": 37,
      "outputs": [
        {
          "output_type": "execute_result",
          "data": {
            "text/html": [
              "\n",
              "  <div id=\"df-d1ac3508-2e89-4af6-a9a5-b066e5eeeb8e\">\n",
              "    <div class=\"colab-df-container\">\n",
              "      <div>\n",
              "<style scoped>\n",
              "    .dataframe tbody tr th:only-of-type {\n",
              "        vertical-align: middle;\n",
              "    }\n",
              "\n",
              "    .dataframe tbody tr th {\n",
              "        vertical-align: top;\n",
              "    }\n",
              "\n",
              "    .dataframe thead th {\n",
              "        text-align: right;\n",
              "    }\n",
              "</style>\n",
              "<table border=\"1\" class=\"dataframe\">\n",
              "  <thead>\n",
              "    <tr style=\"text-align: right;\">\n",
              "      <th></th>\n",
              "      <th>clip</th>\n",
              "      <th>preictal</th>\n",
              "    </tr>\n",
              "  </thead>\n",
              "  <tbody>\n",
              "    <tr>\n",
              "      <th>0</th>\n",
              "      <td>Patient_2_test_segment_0001.mat</td>\n",
              "      <td>0</td>\n",
              "    </tr>\n",
              "    <tr>\n",
              "      <th>1</th>\n",
              "      <td>Patient_2_test_segment_0002.mat</td>\n",
              "      <td>0</td>\n",
              "    </tr>\n",
              "    <tr>\n",
              "      <th>2</th>\n",
              "      <td>Patient_2_test_segment_0003.mat</td>\n",
              "      <td>0</td>\n",
              "    </tr>\n",
              "    <tr>\n",
              "      <th>3</th>\n",
              "      <td>Patient_2_test_segment_0004.mat</td>\n",
              "      <td>0</td>\n",
              "    </tr>\n",
              "    <tr>\n",
              "      <th>4</th>\n",
              "      <td>Patient_2_test_segment_0005.mat</td>\n",
              "      <td>0</td>\n",
              "    </tr>\n",
              "    <tr>\n",
              "      <th>5</th>\n",
              "      <td>Patient_2_test_segment_0006.mat</td>\n",
              "      <td>0</td>\n",
              "    </tr>\n",
              "    <tr>\n",
              "      <th>6</th>\n",
              "      <td>Patient_2_test_segment_0007.mat</td>\n",
              "      <td>0</td>\n",
              "    </tr>\n",
              "    <tr>\n",
              "      <th>7</th>\n",
              "      <td>Patient_2_test_segment_0008.mat</td>\n",
              "      <td>0</td>\n",
              "    </tr>\n",
              "    <tr>\n",
              "      <th>8</th>\n",
              "      <td>Patient_2_test_segment_0009.mat</td>\n",
              "      <td>0</td>\n",
              "    </tr>\n",
              "    <tr>\n",
              "      <th>9</th>\n",
              "      <td>Patient_2_test_segment_0010.mat</td>\n",
              "      <td>0</td>\n",
              "    </tr>\n",
              "  </tbody>\n",
              "</table>\n",
              "</div>\n",
              "      <button class=\"colab-df-convert\" onclick=\"convertToInteractive('df-d1ac3508-2e89-4af6-a9a5-b066e5eeeb8e')\"\n",
              "              title=\"Convert this dataframe to an interactive table.\"\n",
              "              style=\"display:none;\">\n",
              "        \n",
              "  <svg xmlns=\"http://www.w3.org/2000/svg\" height=\"24px\"viewBox=\"0 0 24 24\"\n",
              "       width=\"24px\">\n",
              "    <path d=\"M0 0h24v24H0V0z\" fill=\"none\"/>\n",
              "    <path d=\"M18.56 5.44l.94 2.06.94-2.06 2.06-.94-2.06-.94-.94-2.06-.94 2.06-2.06.94zm-11 1L8.5 8.5l.94-2.06 2.06-.94-2.06-.94L8.5 2.5l-.94 2.06-2.06.94zm10 10l.94 2.06.94-2.06 2.06-.94-2.06-.94-.94-2.06-.94 2.06-2.06.94z\"/><path d=\"M17.41 7.96l-1.37-1.37c-.4-.4-.92-.59-1.43-.59-.52 0-1.04.2-1.43.59L10.3 9.45l-7.72 7.72c-.78.78-.78 2.05 0 2.83L4 21.41c.39.39.9.59 1.41.59.51 0 1.02-.2 1.41-.59l7.78-7.78 2.81-2.81c.8-.78.8-2.07 0-2.86zM5.41 20L4 18.59l7.72-7.72 1.47 1.35L5.41 20z\"/>\n",
              "  </svg>\n",
              "      </button>\n",
              "      \n",
              "  <style>\n",
              "    .colab-df-container {\n",
              "      display:flex;\n",
              "      flex-wrap:wrap;\n",
              "      gap: 12px;\n",
              "    }\n",
              "\n",
              "    .colab-df-convert {\n",
              "      background-color: #E8F0FE;\n",
              "      border: none;\n",
              "      border-radius: 50%;\n",
              "      cursor: pointer;\n",
              "      display: none;\n",
              "      fill: #1967D2;\n",
              "      height: 32px;\n",
              "      padding: 0 0 0 0;\n",
              "      width: 32px;\n",
              "    }\n",
              "\n",
              "    .colab-df-convert:hover {\n",
              "      background-color: #E2EBFA;\n",
              "      box-shadow: 0px 1px 2px rgba(60, 64, 67, 0.3), 0px 1px 3px 1px rgba(60, 64, 67, 0.15);\n",
              "      fill: #174EA6;\n",
              "    }\n",
              "\n",
              "    [theme=dark] .colab-df-convert {\n",
              "      background-color: #3B4455;\n",
              "      fill: #D2E3FC;\n",
              "    }\n",
              "\n",
              "    [theme=dark] .colab-df-convert:hover {\n",
              "      background-color: #434B5C;\n",
              "      box-shadow: 0px 1px 3px 1px rgba(0, 0, 0, 0.15);\n",
              "      filter: drop-shadow(0px 1px 2px rgba(0, 0, 0, 0.3));\n",
              "      fill: #FFFFFF;\n",
              "    }\n",
              "  </style>\n",
              "\n",
              "      <script>\n",
              "        const buttonEl =\n",
              "          document.querySelector('#df-d1ac3508-2e89-4af6-a9a5-b066e5eeeb8e button.colab-df-convert');\n",
              "        buttonEl.style.display =\n",
              "          google.colab.kernel.accessAllowed ? 'block' : 'none';\n",
              "\n",
              "        async function convertToInteractive(key) {\n",
              "          const element = document.querySelector('#df-d1ac3508-2e89-4af6-a9a5-b066e5eeeb8e');\n",
              "          const dataTable =\n",
              "            await google.colab.kernel.invokeFunction('convertToInteractive',\n",
              "                                                     [key], {});\n",
              "          if (!dataTable) return;\n",
              "\n",
              "          const docLinkHtml = 'Like what you see? Visit the ' +\n",
              "            '<a target=\"_blank\" href=https://colab.research.google.com/notebooks/data_table.ipynb>data table notebook</a>'\n",
              "            + ' to learn more about interactive tables.';\n",
              "          element.innerHTML = '';\n",
              "          dataTable['output_type'] = 'display_data';\n",
              "          await google.colab.output.renderOutput(dataTable, element);\n",
              "          const docLink = document.createElement('div');\n",
              "          docLink.innerHTML = docLinkHtml;\n",
              "          element.appendChild(docLink);\n",
              "        }\n",
              "      </script>\n",
              "    </div>\n",
              "  </div>\n",
              "  "
            ],
            "text/plain": [
              "                              clip  preictal\n",
              "0  Patient_2_test_segment_0001.mat         0\n",
              "1  Patient_2_test_segment_0002.mat         0\n",
              "2  Patient_2_test_segment_0003.mat         0\n",
              "3  Patient_2_test_segment_0004.mat         0\n",
              "4  Patient_2_test_segment_0005.mat         0\n",
              "5  Patient_2_test_segment_0006.mat         0\n",
              "6  Patient_2_test_segment_0007.mat         0\n",
              "7  Patient_2_test_segment_0008.mat         0\n",
              "8  Patient_2_test_segment_0009.mat         0\n",
              "9  Patient_2_test_segment_0010.mat         0"
            ]
          },
          "metadata": {},
          "execution_count": 37
        }
      ]
    },
    {
      "cell_type": "code",
      "execution_count": null,
      "metadata": {
        "id": "aZSrPyNL9j3e"
      },
      "outputs": [],
      "source": [
        "interictal_data_1 = scipy.io.loadmat('Patient_1_preictal_segment_0001.mat')          # loads the file as a dictionary\n",
        "interictal_data_2 = scipy.io.loadmat('Patient_1_preictal_segment_0002.mat')          # loads the file as a dictionary\n",
        "interictal_data_3 = scipy.io.loadmat('Patient_1_preictal_segment_0003.mat')          # loads the file as a dictionary\n",
        "interictal_data_4 = scipy.io.loadmat('Patient_1_preictal_segment_0004.mat')          # loads the file as a dictionary\n",
        "interictal_data_5 = scipy.io.loadmat('Patient_1_preictal_segment_0005.mat')          # loads the file as a dictionary\n",
        "interictal_data_6 = scipy.io.loadmat('Patient_1_preictal_segment_0006.mat')          # loads the file as a dictionary\n",
        "# print(sorted(interictal_data.keys()))\n",
        "# data_len_sec = interictal_data['interictal_segment_1']['data_length_sec']\n",
        "# data_len_sec[0][0][0][0]"
      ]
    },
    {
      "cell_type": "markdown",
      "metadata": {
        "id": "V_fEOuOmUCT7"
      },
      "source": [
        "Display EEG data for this specific file:"
      ]
    },
    {
      "cell_type": "code",
      "execution_count": null,
      "metadata": {
        "colab": {
          "base_uri": "https://localhost:8080/"
        },
        "id": "W0JqOo3aUAmV",
        "outputId": "8b923413-e002-4c82-965c-f62415cf32c6"
      },
      "outputs": [
        {
          "name": "stdout",
          "output_type": "stream",
          "text": [
            "(15, 18000000)\n",
            "15\n"
          ]
        }
      ],
      "source": [
        "data_1 = interictal_data_1['preictal_segment_1'][0][0][0]\n",
        "data_2 = interictal_data_2['preictal_segment_2'][0][0][0]\n",
        "data_3 = interictal_data_3['preictal_segment_3'][0][0][0]\n",
        "data_4 = interictal_data_4['preictal_segment_4'][0][0][0]\n",
        "data_5 = interictal_data_5['preictal_segment_5'][0][0][0]\n",
        "data_6 = interictal_data_6['preictal_segment_6'][0][0][0]\n",
        "\n",
        "data = np.concatenate((data_1,data_2),axis=1)\n",
        "data = np.concatenate((data,data_3),axis=1)\n",
        "data = np.concatenate((data,data_4),axis=1)\n",
        "data = np.concatenate((data,data_5),axis=1)\n",
        "data = np.concatenate((data,data_6),axis=1)\n",
        "print(data.shape)\n",
        "# data = data_seg[0][0][0]\n",
        "nr_electrodes = data.shape[0]\n",
        "nr_samples = data.shape[1]\n",
        "electrode_names = interictal_data_1['preictal_segment_1'][0][0][3][0]\n",
        "print(nr_electrodes)\n",
        "t = 60 * np.arange(nr_samples) / nr_samples\n"
      ]
    },
    {
      "cell_type": "code",
      "execution_count": null,
      "metadata": {
        "colab": {
          "base_uri": "https://localhost:8080/",
          "height": 35
        },
        "id": "WBZCPLFCV8ME",
        "outputId": "2b1037ec-dbfe-48e7-defa-48d3bb8e5cb8"
      },
      "outputs": [
        {
          "data": {
            "application/javascript": [
              "\n",
              "    async function download(id, filename, size) {\n",
              "      if (!google.colab.kernel.accessAllowed) {\n",
              "        return;\n",
              "      }\n",
              "      const div = document.createElement('div');\n",
              "      const label = document.createElement('label');\n",
              "      label.textContent = `Downloading \"${filename}\": `;\n",
              "      div.appendChild(label);\n",
              "      const progress = document.createElement('progress');\n",
              "      progress.max = size;\n",
              "      div.appendChild(progress);\n",
              "      document.body.appendChild(div);\n",
              "\n",
              "      const buffers = [];\n",
              "      let downloaded = 0;\n",
              "\n",
              "      const channel = await google.colab.kernel.comms.open(id);\n",
              "      // Send a message to notify the kernel that we're ready.\n",
              "      channel.send({})\n",
              "\n",
              "      for await (const message of channel.messages) {\n",
              "        // Send a message to notify the kernel that we're ready.\n",
              "        channel.send({})\n",
              "        if (message.buffers) {\n",
              "          for (const buffer of message.buffers) {\n",
              "            buffers.push(buffer);\n",
              "            downloaded += buffer.byteLength;\n",
              "            progress.value = downloaded;\n",
              "          }\n",
              "        }\n",
              "      }\n",
              "      const blob = new Blob(buffers, {type: 'application/binary'});\n",
              "      const a = document.createElement('a');\n",
              "      a.href = window.URL.createObjectURL(blob);\n",
              "      a.download = filename;\n",
              "      div.appendChild(a);\n",
              "      a.click();\n",
              "      div.remove();\n",
              "    }\n",
              "  "
            ],
            "text/plain": [
              "<IPython.core.display.Javascript object>"
            ]
          },
          "metadata": {},
          "output_type": "display_data"
        },
        {
          "data": {
            "application/javascript": [
              "download(\"download_3f13c773-7657-47e4-85f4-d6740a5ab8a8\", \"eeg_plot.png\", 281463)"
            ],
            "text/plain": [
              "<IPython.core.display.Javascript object>"
            ]
          },
          "metadata": {},
          "output_type": "display_data"
        }
      ],
      "source": [
        "# Plot the EEG\n",
        "fig = plt.figure(\"EEG samples\",figsize=(30,15))\n",
        "\n",
        "ticklocs = []\n",
        "ax = fig.add_subplot(1, 1, 1)\n",
        "ax.set_xlim(0, 60)\n",
        "ax.set_xticks(np.arange(60))\n",
        "dmin = data.min()\n",
        "dmax = data.max()\n",
        "dr = (dmax - dmin) * 0.7   #crowd it a bit\n",
        "y0 = dmin\n",
        "y1 = (nr_electrodes -1) * dr + dmax\n",
        "ax.set_ylim(y0, y1)\n",
        "\n",
        "segs = []\n",
        "for electrode in range(nr_electrodes):\n",
        "    segs.append(np.column_stack((t, data[electrode, :])))\n",
        "    ticklocs.append(electrode * dr)\n",
        "    \n",
        "offsets = np.zeros((nr_electrodes, 2), dtype=float)\n",
        "offsets[:, 1] = ticklocs\n",
        "\n",
        "lines = LineCollection(segs, offsets=offsets, transOffset=None)\n",
        "ax.add_collection(lines)\n",
        "\n",
        "# Set the yticks to use axes coordinates on the y axis\n",
        "ax.set_yticks(ticklocs)\n",
        "ax.set_yticklabels(electrode_names)\n",
        "\n",
        "ax.set_xlabel('Time (minutes)')\n",
        "from google.colab import files\n",
        "plt.savefig(\"eeg_plot.png\")\n",
        "files.download(\"eeg_plot.png\") \n",
        "plt.show()"
      ]
    },
    {
      "cell_type": "code",
      "execution_count": null,
      "metadata": {
        "colab": {
          "base_uri": "https://localhost:8080/"
        },
        "id": "dhooESfuiIO1",
        "outputId": "65b33544-9d76-4427-fecd-d150bd724146"
      },
      "outputs": [
        {
          "name": "stdout",
          "output_type": "stream",
          "text": [
            "Collecting mne\n",
            "  Downloading mne-0.24.1-py3-none-any.whl (7.4 MB)\n",
            "\u001b[K     |████████████████████████████████| 7.4 MB 6.4 MB/s \n",
            "\u001b[?25hRequirement already satisfied: scipy>=1.1.0 in /usr/local/lib/python3.7/dist-packages (from mne) (1.4.1)\n",
            "Requirement already satisfied: numpy>=1.15.4 in /usr/local/lib/python3.7/dist-packages (from mne) (1.19.5)\n",
            "Installing collected packages: mne\n",
            "Successfully installed mne-0.24.1\n"
          ]
        }
      ],
      "source": [
        "!pip install mne"
      ]
    },
    {
      "cell_type": "code",
      "execution_count": null,
      "metadata": {
        "id": "DN8G3gYCdh5X"
      },
      "outputs": [],
      "source": [
        "import mne\n",
        "from mne.datasets import sample\n",
        "from mne.decoding import UnsupervisedSpatialFilter\n",
        "from sklearn.decomposition import PCA"
      ]
    },
    {
      "cell_type": "code",
      "execution_count": null,
      "metadata": {
        "colab": {
          "base_uri": "https://localhost:8080/",
          "height": 1000
        },
        "id": "1PwiZh-3baSw",
        "outputId": "9a95f140-bf9e-4243-ad8b-75289fa5d69d"
      },
      "outputs": [
        {
          "name": "stdout",
          "output_type": "stream",
          "text": [
            "['LD_1', 'LD_3', 'LD_4', 'LD_5', 'LD_6', 'LD_7', 'LD_8', 'RD_1', 'RD_2', 'RD_3', 'RD_4', 'RD_5', 'RD_6', 'RD_7', 'RD_8']\n",
            "5000.0\n",
            "Creating RawArray with float64 data, n_channels=15, n_times=3000000\n",
            "    Range : 0 ... 2999999 =      0.000 ...   600.000 secs\n",
            "Ready.\n"
          ]
        },
        {
          "name": "stderr",
          "output_type": "stream",
          "text": [
            "/usr/local/lib/python3.7/dist-packages/matplotlib/colors.py:263: VisibleDeprecationWarning: Creating an ndarray from ragged nested sequences (which is a list-or-tuple of lists-or-tuples-or ndarrays with different lengths or shapes) is deprecated. If you meant to do this, you must specify 'dtype=object' when creating the ndarray\n",
            "  c = np.array(c)\n"
          ]
        },
        {
          "data": {
            "image/png": "[encoded data removed]",
            "text/plain": [
              "<MNEBrowseFigure size 576x576 with 4 Axes>"
            ]
          },
          "metadata": {},
          "output_type": "display_data"
        },
        {
          "data": {
            "image/png": "[encoded data removed]",
            "text/plain": [
              "<MNEBrowseFigure size 576x576 with 4 Axes>"
            ]
          },
          "execution_count": 33,
          "metadata": {},
          "output_type": "execute_result"
        }
      ],
      "source": [
        "#Convert .mat data into MNE raw data\n",
        "data = interictal_data_1['preictal_segment_1'][0][0][0]\n",
        "n_channels = data.shape[0]\n",
        "nr_samples = data.shape[1]\n",
        "nr_electrodes = data.shape[0]\n",
        "nr_samples = data.shape[1]\n",
        "electrode_names_arr = interictal_data_1['preictal_segment_1'][0][0][3][0]\n",
        "electrode_names = []\n",
        "for x in electrode_names_arr:\n",
        "  electrode_names.append(list(x)[0])\n",
        "\n",
        "sampling_freq = nr_samples / 600 # in Hertz\n",
        "print(electrode_names)\n",
        "print(sampling_freq)\n",
        "info = mne.create_info(ch_names=electrode_names, ch_types=['eeg'] * nr_electrodes,\n",
        "                       sfreq=sampling_freq)\n",
        "\n",
        "raw_data = mne.io.RawArray(interictal_data_1['preictal_segment_1'][0][0][0], info)\n",
        "# simulated_raw.plot(show_scrollbars=False, show_scalebars=False)"
      ]
    },
    {
      "cell_type": "code",
      "execution_count": null,
      "metadata": {
        "colab": {
          "base_uri": "https://localhost:8080/",
          "height": 517
        },
        "id": "Ly9QgN-whgKy",
        "outputId": "f7d004f8-c95f-44df-fdab-2321cac76d3d"
      },
      "outputs": [
        {
          "name": "stdout",
          "output_type": "stream",
          "text": [
            "Effective window size : 0.410 (s)\n"
          ]
        },
        {
          "data": {
            "image/png": "[encoded data removed]",
            "text/plain": [
              "<MNELineFigure size 720x252 with 1 Axes>"
            ]
          },
          "metadata": {},
          "output_type": "display_data"
        },
        {
          "data": {
            "image/png": "[encoded data removed]",
            "text/plain": [
              "<MNELineFigure size 720x252 with 1 Axes>"
            ]
          },
          "execution_count": 30,
          "metadata": {},
          "output_type": "execute_result"
        }
      ],
      "source": [
        "# raw_data.plot()\n",
        "# raw_data.pick_channels(['LD_1'])\n",
        "raw_data.plot_psd(average=True)"
      ]
    },
    {
      "cell_type": "code",
      "execution_count": null,
      "metadata": {
        "colab": {
          "base_uri": "https://localhost:8080/"
        },
        "id": "0MLdzWcZQ5Bg",
        "outputId": "411850dc-fe7e-461d-8063-1fdbe5436e10"
      },
      "outputs": [
        {
          "name": "stdout",
          "output_type": "stream",
          "text": [
            "Number of frequencies: 2501\n",
            "Number of time steps: 1200\n"
          ]
        }
      ],
      "source": [
        "X = raw_data.get_data()\n",
        "wsize = 5000\n",
        "res = mne.time_frequency.stft(X, wsize, tstep=None, verbose=None)\n"
      ]
    },
    {
      "cell_type": "code",
      "execution_count": null,
      "metadata": {
        "colab": {
          "base_uri": "https://localhost:8080/"
        },
        "id": "cjQxUTF8df1U",
        "outputId": "2c42c199-b601-4056-86b0-94775107c7f6"
      },
      "outputs": [
        {
          "name": "stdout",
          "output_type": "stream",
          "text": [
            "(15, 2501, 1200)\n"
          ]
        }
      ],
      "source": [
        "print(res.shape)"
      ]
    },
    {
      "cell_type": "code",
      "execution_count": null,
      "metadata": {
        "colab": {
          "base_uri": "https://localhost:8080/",
          "height": 339
        },
        "id": "ILaRdaUi565C",
        "outputId": "a37cbc92-bb2e-4a1e-9e33-7e54afaebccb"
      },
      "outputs": [
        {
          "ename": "ModuleNotFoundError",
          "evalue": "ignored",
          "output_type": "error",
          "traceback": [
            "\u001b[0;31m---------------------------------------------------------------------------\u001b[0m",
            "\u001b[0;31mModuleNotFoundError\u001b[0m                       Traceback (most recent call last)",
            "\u001b[0;32m<ipython-input-31-aefdef88ac53>\u001b[0m in \u001b[0;36m<module>\u001b[0;34m()\u001b[0m\n\u001b[1;32m      5\u001b[0m \u001b[0;32mimport\u001b[0m \u001b[0mnumpy\u001b[0m \u001b[0;32mas\u001b[0m \u001b[0mnp\u001b[0m\u001b[0;34m\u001b[0m\u001b[0;34m\u001b[0m\u001b[0m\n\u001b[1;32m      6\u001b[0m \u001b[0;32mfrom\u001b[0m \u001b[0mdatetime\u001b[0m \u001b[0;32mimport\u001b[0m \u001b[0mtimedelta\u001b[0m\u001b[0;34m\u001b[0m\u001b[0;34m\u001b[0m\u001b[0m\n\u001b[0;32m----> 7\u001b[0;31m \u001b[0;32mimport\u001b[0m \u001b[0mcalender\u001b[0m\u001b[0;34m\u001b[0m\u001b[0;34m\u001b[0m\u001b[0m\n\u001b[0m",
            "\u001b[0;31mModuleNotFoundError\u001b[0m: No module named 'calender'",
            "",
            "\u001b[0;31m---------------------------------------------------------------------------\u001b[0;32m\nNOTE: If your import is failing due to a missing package, you can\nmanually install dependencies using either !pip or !apt.\n\nTo view examples of installing some common dependencies, click the\n\"Open Examples\" button below.\n\u001b[0;31m---------------------------------------------------------------------------\u001b[0m\n"
          ]
        }
      ],
      "source": [
        "import pandas as pd\n",
        "from sklearn.feature_selection import RFE\n",
        "from sklearn.ensemble import RandomForestRegressor\n",
        "from pandas import DataFrame\n",
        "import numpy as np\n",
        "from datetime import timedelta\n"
      ]
    },
    {
      "cell_type": "code",
      "execution_count": null,
      "metadata": {
        "id": "NIR_1QQt6K5p"
      },
      "outputs": [],
      "source": [
        "dataframe = DataFrame()\n",
        "data = {'Time':[1,2,3,4,5,6],\n",
        "        'Amount':[1683, 1321, 1447, 0, 86, 1165]}\n",
        " \n",
        "# Create DataFrame\n",
        "df = pd.DataFrame(data)"
      ]
    },
    {
      "cell_type": "code",
      "execution_count": null,
      "metadata": {
        "colab": {
          "base_uri": "https://localhost:8080/",
          "height": 237
        },
        "id": "dYRoaPgo6u9-",
        "outputId": "36b573eb-f048-48ff-91d9-c857ff67a94f"
      },
      "outputs": [
        {
          "data": {
            "text/html": [
              "\n",
              "  <div id=\"df-d22bd605-5a2c-4605-8f75-f6bcfd38ad21\">\n",
              "    <div class=\"colab-df-container\">\n",
              "      <div>\n",
              "<style scoped>\n",
              "    .dataframe tbody tr th:only-of-type {\n",
              "        vertical-align: middle;\n",
              "    }\n",
              "\n",
              "    .dataframe tbody tr th {\n",
              "        vertical-align: top;\n",
              "    }\n",
              "\n",
              "    .dataframe thead th {\n",
              "        text-align: right;\n",
              "    }\n",
              "</style>\n",
              "<table border=\"1\" class=\"dataframe\">\n",
              "  <thead>\n",
              "    <tr style=\"text-align: right;\">\n",
              "      <th></th>\n",
              "      <th>t-1</th>\n",
              "    </tr>\n",
              "  </thead>\n",
              "  <tbody>\n",
              "    <tr>\n",
              "      <th>0</th>\n",
              "      <td>NaN</td>\n",
              "    </tr>\n",
              "    <tr>\n",
              "      <th>1</th>\n",
              "      <td>1683.0</td>\n",
              "    </tr>\n",
              "    <tr>\n",
              "      <th>2</th>\n",
              "      <td>1321.0</td>\n",
              "    </tr>\n",
              "    <tr>\n",
              "      <th>3</th>\n",
              "      <td>1447.0</td>\n",
              "    </tr>\n",
              "    <tr>\n",
              "      <th>4</th>\n",
              "      <td>0.0</td>\n",
              "    </tr>\n",
              "    <tr>\n",
              "      <th>5</th>\n",
              "      <td>86.0</td>\n",
              "    </tr>\n",
              "  </tbody>\n",
              "</table>\n",
              "</div>\n",
              "      <button class=\"colab-df-convert\" onclick=\"convertToInteractive('df-d22bd605-5a2c-4605-8f75-f6bcfd38ad21')\"\n",
              "              title=\"Convert this dataframe to an interactive table.\"\n",
              "              style=\"display:none;\">\n",
              "        \n",
              "  <svg xmlns=\"http://www.w3.org/2000/svg\" height=\"24px\"viewBox=\"0 0 24 24\"\n",
              "       width=\"24px\">\n",
              "    <path d=\"M0 0h24v24H0V0z\" fill=\"none\"/>\n",
              "    <path d=\"M18.56 5.44l.94 2.06.94-2.06 2.06-.94-2.06-.94-.94-2.06-.94 2.06-2.06.94zm-11 1L8.5 8.5l.94-2.06 2.06-.94-2.06-.94L8.5 2.5l-.94 2.06-2.06.94zm10 10l.94 2.06.94-2.06 2.06-.94-2.06-.94-.94-2.06-.94 2.06-2.06.94z\"/><path d=\"M17.41 7.96l-1.37-1.37c-.4-.4-.92-.59-1.43-.59-.52 0-1.04.2-1.43.59L10.3 9.45l-7.72 7.72c-.78.78-.78 2.05 0 2.83L4 21.41c.39.39.9.59 1.41.59.51 0 1.02-.2 1.41-.59l7.78-7.78 2.81-2.81c.8-.78.8-2.07 0-2.86zM5.41 20L4 18.59l7.72-7.72 1.47 1.35L5.41 20z\"/>\n",
              "  </svg>\n",
              "      </button>\n",
              "      \n",
              "  <style>\n",
              "    .colab-df-container {\n",
              "      display:flex;\n",
              "      flex-wrap:wrap;\n",
              "      gap: 12px;\n",
              "    }\n",
              "\n",
              "    .colab-df-convert {\n",
              "      background-color: #E8F0FE;\n",
              "      border: none;\n",
              "      border-radius: 50%;\n",
              "      cursor: pointer;\n",
              "      display: none;\n",
              "      fill: #1967D2;\n",
              "      height: 32px;\n",
              "      padding: 0 0 0 0;\n",
              "      width: 32px;\n",
              "    }\n",
              "\n",
              "    .colab-df-convert:hover {\n",
              "      background-color: #E2EBFA;\n",
              "      box-shadow: 0px 1px 2px rgba(60, 64, 67, 0.3), 0px 1px 3px 1px rgba(60, 64, 67, 0.15);\n",
              "      fill: #174EA6;\n",
              "    }\n",
              "\n",
              "    [theme=dark] .colab-df-convert {\n",
              "      background-color: #3B4455;\n",
              "      fill: #D2E3FC;\n",
              "    }\n",
              "\n",
              "    [theme=dark] .colab-df-convert:hover {\n",
              "      background-color: #434B5C;\n",
              "      box-shadow: 0px 1px 3px 1px rgba(0, 0, 0, 0.15);\n",
              "      filter: drop-shadow(0px 1px 2px rgba(0, 0, 0, 0.3));\n",
              "      fill: #FFFFFF;\n",
              "    }\n",
              "  </style>\n",
              "\n",
              "      <script>\n",
              "        const buttonEl =\n",
              "          document.querySelector('#df-d22bd605-5a2c-4605-8f75-f6bcfd38ad21 button.colab-df-convert');\n",
              "        buttonEl.style.display =\n",
              "          google.colab.kernel.accessAllowed ? 'block' : 'none';\n",
              "\n",
              "        async function convertToInteractive(key) {\n",
              "          const element = document.querySelector('#df-d22bd605-5a2c-4605-8f75-f6bcfd38ad21');\n",
              "          const dataTable =\n",
              "            await google.colab.kernel.invokeFunction('convertToInteractive',\n",
              "                                                     [key], {});\n",
              "          if (!dataTable) return;\n",
              "\n",
              "          const docLinkHtml = 'Like what you see? Visit the ' +\n",
              "            '<a target=\"_blank\" href=https://colab.research.google.com/notebooks/data_table.ipynb>data table notebook</a>'\n",
              "            + ' to learn more about interactive tables.';\n",
              "          element.innerHTML = '';\n",
              "          dataTable['output_type'] = 'display_data';\n",
              "          await google.colab.output.renderOutput(dataTable, element);\n",
              "          const docLink = document.createElement('div');\n",
              "          docLink.innerHTML = docLinkHtml;\n",
              "          element.appendChild(docLink);\n",
              "        }\n",
              "      </script>\n",
              "    </div>\n",
              "  </div>\n",
              "  "
            ],
            "text/plain": [
              "      t-1\n",
              "0     NaN\n",
              "1  1683.0\n",
              "2  1321.0\n",
              "3  1447.0\n",
              "4     0.0\n",
              "5    86.0"
            ]
          },
          "execution_count": 36,
          "metadata": {},
          "output_type": "execute_result"
        }
      ],
      "source": [
        "dataframe = DataFrame()\n",
        "for i in range(1, 0, -1):\n",
        "   dataframe['t-' + str(i)] = df.Amount.shift(i)\n",
        "dataframe\n"
      ]
    },
    {
      "cell_type": "code",
      "execution_count": null,
      "metadata": {
        "colab": {
          "base_uri": "https://localhost:8080/",
          "height": 237
        },
        "id": "BiekADx38nBD",
        "outputId": "0bd37b37-44f5-44d1-dc3a-acc363d9ce86"
      },
      "outputs": [
        {
          "data": {
            "text/html": [
              "\n",
              "  <div id=\"df-48dc4dfd-147d-4800-be68-5ab9400110c6\">\n",
              "    <div class=\"colab-df-container\">\n",
              "      <div>\n",
              "<style scoped>\n",
              "    .dataframe tbody tr th:only-of-type {\n",
              "        vertical-align: middle;\n",
              "    }\n",
              "\n",
              "    .dataframe tbody tr th {\n",
              "        vertical-align: top;\n",
              "    }\n",
              "\n",
              "    .dataframe thead th {\n",
              "        text-align: right;\n",
              "    }\n",
              "</style>\n",
              "<table border=\"1\" class=\"dataframe\">\n",
              "  <thead>\n",
              "    <tr style=\"text-align: right;\">\n",
              "      <th></th>\n",
              "      <th>Time</th>\n",
              "      <th>Amount</th>\n",
              "      <th>t-1</th>\n",
              "    </tr>\n",
              "  </thead>\n",
              "  <tbody>\n",
              "    <tr>\n",
              "      <th>0</th>\n",
              "      <td>1</td>\n",
              "      <td>1683</td>\n",
              "      <td>NaN</td>\n",
              "    </tr>\n",
              "    <tr>\n",
              "      <th>1</th>\n",
              "      <td>2</td>\n",
              "      <td>1321</td>\n",
              "      <td>1683.0</td>\n",
              "    </tr>\n",
              "    <tr>\n",
              "      <th>2</th>\n",
              "      <td>3</td>\n",
              "      <td>1447</td>\n",
              "      <td>1321.0</td>\n",
              "    </tr>\n",
              "    <tr>\n",
              "      <th>3</th>\n",
              "      <td>4</td>\n",
              "      <td>0</td>\n",
              "      <td>1447.0</td>\n",
              "    </tr>\n",
              "    <tr>\n",
              "      <th>4</th>\n",
              "      <td>5</td>\n",
              "      <td>86</td>\n",
              "      <td>0.0</td>\n",
              "    </tr>\n",
              "    <tr>\n",
              "      <th>5</th>\n",
              "      <td>6</td>\n",
              "      <td>1165</td>\n",
              "      <td>86.0</td>\n",
              "    </tr>\n",
              "  </tbody>\n",
              "</table>\n",
              "</div>\n",
              "      <button class=\"colab-df-convert\" onclick=\"convertToInteractive('df-48dc4dfd-147d-4800-be68-5ab9400110c6')\"\n",
              "              title=\"Convert this dataframe to an interactive table.\"\n",
              "              style=\"display:none;\">\n",
              "        \n",
              "  <svg xmlns=\"http://www.w3.org/2000/svg\" height=\"24px\"viewBox=\"0 0 24 24\"\n",
              "       width=\"24px\">\n",
              "    <path d=\"M0 0h24v24H0V0z\" fill=\"none\"/>\n",
              "    <path d=\"M18.56 5.44l.94 2.06.94-2.06 2.06-.94-2.06-.94-.94-2.06-.94 2.06-2.06.94zm-11 1L8.5 8.5l.94-2.06 2.06-.94-2.06-.94L8.5 2.5l-.94 2.06-2.06.94zm10 10l.94 2.06.94-2.06 2.06-.94-2.06-.94-.94-2.06-.94 2.06-2.06.94z\"/><path d=\"M17.41 7.96l-1.37-1.37c-.4-.4-.92-.59-1.43-.59-.52 0-1.04.2-1.43.59L10.3 9.45l-7.72 7.72c-.78.78-.78 2.05 0 2.83L4 21.41c.39.39.9.59 1.41.59.51 0 1.02-.2 1.41-.59l7.78-7.78 2.81-2.81c.8-.78.8-2.07 0-2.86zM5.41 20L4 18.59l7.72-7.72 1.47 1.35L5.41 20z\"/>\n",
              "  </svg>\n",
              "      </button>\n",
              "      \n",
              "  <style>\n",
              "    .colab-df-container {\n",
              "      display:flex;\n",
              "      flex-wrap:wrap;\n",
              "      gap: 12px;\n",
              "    }\n",
              "\n",
              "    .colab-df-convert {\n",
              "      background-color: #E8F0FE;\n",
              "      border: none;\n",
              "      border-radius: 50%;\n",
              "      cursor: pointer;\n",
              "      display: none;\n",
              "      fill: #1967D2;\n",
              "      height: 32px;\n",
              "      padding: 0 0 0 0;\n",
              "      width: 32px;\n",
              "    }\n",
              "\n",
              "    .colab-df-convert:hover {\n",
              "      background-color: #E2EBFA;\n",
              "      box-shadow: 0px 1px 2px rgba(60, 64, 67, 0.3), 0px 1px 3px 1px rgba(60, 64, 67, 0.15);\n",
              "      fill: #174EA6;\n",
              "    }\n",
              "\n",
              "    [theme=dark] .colab-df-convert {\n",
              "      background-color: #3B4455;\n",
              "      fill: #D2E3FC;\n",
              "    }\n",
              "\n",
              "    [theme=dark] .colab-df-convert:hover {\n",
              "      background-color: #434B5C;\n",
              "      box-shadow: 0px 1px 3px 1px rgba(0, 0, 0, 0.15);\n",
              "      filter: drop-shadow(0px 1px 2px rgba(0, 0, 0, 0.3));\n",
              "      fill: #FFFFFF;\n",
              "    }\n",
              "  </style>\n",
              "\n",
              "      <script>\n",
              "        const buttonEl =\n",
              "          document.querySelector('#df-48dc4dfd-147d-4800-be68-5ab9400110c6 button.colab-df-convert');\n",
              "        buttonEl.style.display =\n",
              "          google.colab.kernel.accessAllowed ? 'block' : 'none';\n",
              "\n",
              "        async function convertToInteractive(key) {\n",
              "          const element = document.querySelector('#df-48dc4dfd-147d-4800-be68-5ab9400110c6');\n",
              "          const dataTable =\n",
              "            await google.colab.kernel.invokeFunction('convertToInteractive',\n",
              "                                                     [key], {});\n",
              "          if (!dataTable) return;\n",
              "\n",
              "          const docLinkHtml = 'Like what you see? Visit the ' +\n",
              "            '<a target=\"_blank\" href=https://colab.research.google.com/notebooks/data_table.ipynb>data table notebook</a>'\n",
              "            + ' to learn more about interactive tables.';\n",
              "          element.innerHTML = '';\n",
              "          dataTable['output_type'] = 'display_data';\n",
              "          await google.colab.output.renderOutput(dataTable, element);\n",
              "          const docLink = document.createElement('div');\n",
              "          docLink.innerHTML = docLinkHtml;\n",
              "          element.appendChild(docLink);\n",
              "        }\n",
              "      </script>\n",
              "    </div>\n",
              "  </div>\n",
              "  "
            ],
            "text/plain": [
              "   Time  Amount     t-1\n",
              "0     1    1683     NaN\n",
              "1     2    1321  1683.0\n",
              "2     3    1447  1321.0\n",
              "3     4       0  1447.0\n",
              "4     5      86     0.0\n",
              "5     6    1165    86.0"
            ]
          },
          "execution_count": 38,
          "metadata": {},
          "output_type": "execute_result"
        }
      ],
      "source": [
        "final_data = pd.concat([df, dataframe], axis=1)\n",
        "\n"
      ]
    },
    {
      "cell_type": "code",
      "execution_count": null,
      "metadata": {
        "id": "VarCa8Xx9ew_"
      },
      "outputs": [],
      "source": [
        "final_data.dropna(inplace=True)"
      ]
    },
    {
      "cell_type": "code",
      "execution_count": null,
      "metadata": {
        "colab": {
          "base_uri": "https://localhost:8080/",
          "height": 206
        },
        "id": "M5-9vI5b9iGT",
        "outputId": "4351a7d9-48ef-4f87-98d4-0fc3c3191ab1"
      },
      "outputs": [
        {
          "data": {
            "text/html": [
              "\n",
              "  <div id=\"df-9ee7f766-4a28-4ef2-b100-2b1ddba93ee7\">\n",
              "    <div class=\"colab-df-container\">\n",
              "      <div>\n",
              "<style scoped>\n",
              "    .dataframe tbody tr th:only-of-type {\n",
              "        vertical-align: middle;\n",
              "    }\n",
              "\n",
              "    .dataframe tbody tr th {\n",
              "        vertical-align: top;\n",
              "    }\n",
              "\n",
              "    .dataframe thead th {\n",
              "        text-align: right;\n",
              "    }\n",
              "</style>\n",
              "<table border=\"1\" class=\"dataframe\">\n",
              "  <thead>\n",
              "    <tr style=\"text-align: right;\">\n",
              "      <th></th>\n",
              "      <th>Time</th>\n",
              "      <th>Amount</th>\n",
              "      <th>t-1</th>\n",
              "    </tr>\n",
              "  </thead>\n",
              "  <tbody>\n",
              "    <tr>\n",
              "      <th>1</th>\n",
              "      <td>2</td>\n",
              "      <td>1321</td>\n",
              "      <td>1683.0</td>\n",
              "    </tr>\n",
              "    <tr>\n",
              "      <th>2</th>\n",
              "      <td>3</td>\n",
              "      <td>1447</td>\n",
              "      <td>1321.0</td>\n",
              "    </tr>\n",
              "    <tr>\n",
              "      <th>3</th>\n",
              "      <td>4</td>\n",
              "      <td>0</td>\n",
              "      <td>1447.0</td>\n",
              "    </tr>\n",
              "    <tr>\n",
              "      <th>4</th>\n",
              "      <td>5</td>\n",
              "      <td>86</td>\n",
              "      <td>0.0</td>\n",
              "    </tr>\n",
              "    <tr>\n",
              "      <th>5</th>\n",
              "      <td>6</td>\n",
              "      <td>1165</td>\n",
              "      <td>86.0</td>\n",
              "    </tr>\n",
              "  </tbody>\n",
              "</table>\n",
              "</div>\n",
              "      <button class=\"colab-df-convert\" onclick=\"convertToInteractive('df-9ee7f766-4a28-4ef2-b100-2b1ddba93ee7')\"\n",
              "              title=\"Convert this dataframe to an interactive table.\"\n",
              "              style=\"display:none;\">\n",
              "        \n",
              "  <svg xmlns=\"http://www.w3.org/2000/svg\" height=\"24px\"viewBox=\"0 0 24 24\"\n",
              "       width=\"24px\">\n",
              "    <path d=\"M0 0h24v24H0V0z\" fill=\"none\"/>\n",
              "    <path d=\"M18.56 5.44l.94 2.06.94-2.06 2.06-.94-2.06-.94-.94-2.06-.94 2.06-2.06.94zm-11 1L8.5 8.5l.94-2.06 2.06-.94-2.06-.94L8.5 2.5l-.94 2.06-2.06.94zm10 10l.94 2.06.94-2.06 2.06-.94-2.06-.94-.94-2.06-.94 2.06-2.06.94z\"/><path d=\"M17.41 7.96l-1.37-1.37c-.4-.4-.92-.59-1.43-.59-.52 0-1.04.2-1.43.59L10.3 9.45l-7.72 7.72c-.78.78-.78 2.05 0 2.83L4 21.41c.39.39.9.59 1.41.59.51 0 1.02-.2 1.41-.59l7.78-7.78 2.81-2.81c.8-.78.8-2.07 0-2.86zM5.41 20L4 18.59l7.72-7.72 1.47 1.35L5.41 20z\"/>\n",
              "  </svg>\n",
              "      </button>\n",
              "      \n",
              "  <style>\n",
              "    .colab-df-container {\n",
              "      display:flex;\n",
              "      flex-wrap:wrap;\n",
              "      gap: 12px;\n",
              "    }\n",
              "\n",
              "    .colab-df-convert {\n",
              "      background-color: #E8F0FE;\n",
              "      border: none;\n",
              "      border-radius: 50%;\n",
              "      cursor: pointer;\n",
              "      display: none;\n",
              "      fill: #1967D2;\n",
              "      height: 32px;\n",
              "      padding: 0 0 0 0;\n",
              "      width: 32px;\n",
              "    }\n",
              "\n",
              "    .colab-df-convert:hover {\n",
              "      background-color: #E2EBFA;\n",
              "      box-shadow: 0px 1px 2px rgba(60, 64, 67, 0.3), 0px 1px 3px 1px rgba(60, 64, 67, 0.15);\n",
              "      fill: #174EA6;\n",
              "    }\n",
              "\n",
              "    [theme=dark] .colab-df-convert {\n",
              "      background-color: #3B4455;\n",
              "      fill: #D2E3FC;\n",
              "    }\n",
              "\n",
              "    [theme=dark] .colab-df-convert:hover {\n",
              "      background-color: #434B5C;\n",
              "      box-shadow: 0px 1px 3px 1px rgba(0, 0, 0, 0.15);\n",
              "      filter: drop-shadow(0px 1px 2px rgba(0, 0, 0, 0.3));\n",
              "      fill: #FFFFFF;\n",
              "    }\n",
              "  </style>\n",
              "\n",
              "      <script>\n",
              "        const buttonEl =\n",
              "          document.querySelector('#df-9ee7f766-4a28-4ef2-b100-2b1ddba93ee7 button.colab-df-convert');\n",
              "        buttonEl.style.display =\n",
              "          google.colab.kernel.accessAllowed ? 'block' : 'none';\n",
              "\n",
              "        async function convertToInteractive(key) {\n",
              "          const element = document.querySelector('#df-9ee7f766-4a28-4ef2-b100-2b1ddba93ee7');\n",
              "          const dataTable =\n",
              "            await google.colab.kernel.invokeFunction('convertToInteractive',\n",
              "                                                     [key], {});\n",
              "          if (!dataTable) return;\n",
              "\n",
              "          const docLinkHtml = 'Like what you see? Visit the ' +\n",
              "            '<a target=\"_blank\" href=https://colab.research.google.com/notebooks/data_table.ipynb>data table notebook</a>'\n",
              "            + ' to learn more about interactive tables.';\n",
              "          element.innerHTML = '';\n",
              "          dataTable['output_type'] = 'display_data';\n",
              "          await google.colab.output.renderOutput(dataTable, element);\n",
              "          const docLink = document.createElement('div');\n",
              "          docLink.innerHTML = docLinkHtml;\n",
              "          element.appendChild(docLink);\n",
              "        }\n",
              "      </script>\n",
              "    </div>\n",
              "  </div>\n",
              "  "
            ],
            "text/plain": [
              "   Time  Amount     t-1\n",
              "1     2    1321  1683.0\n",
              "2     3    1447  1321.0\n",
              "3     4       0  1447.0\n",
              "4     5      86     0.0\n",
              "5     6    1165    86.0"
            ]
          },
          "execution_count": 40,
          "metadata": {},
          "output_type": "execute_result"
        }
      ],
      "source": [
        "final_data"
      ]
    },
    {
      "cell_type": "code",
      "execution_count": null,
      "metadata": {
        "id": "iBic6nFs9wQH"
      },
      "outputs": [],
      "source": [
        "finaldf = final_data.drop(['Time'], axis=1)\n",
        "finaldf = finaldf.reset_index(drop=True)\n",
        "test_length=2\n",
        "end_point = len(finaldf)\n",
        "x = end_point - test_length\n"
      ]
    },
    {
      "cell_type": "code",
      "execution_count": null,
      "metadata": {
        "id": "6mC_XG7_-ERy"
      },
      "outputs": [],
      "source": [
        "finaldf_train = finaldf.loc[:x - 1, :]\n",
        "finaldf_test = finaldf.loc[x:, :]\n",
        "finaldf_test_x = finaldf_test.loc[:, finaldf_test.columns != 'SaleQty']\n",
        "finaldf_test_y = finaldf_test['SaleQty']\n",
        "finaldf_train_x = finaldf_train.loc[:, finaldf_train.columns != 'SaleQty']\n",
        "finaldf_train_y = finaldf_train['SaleQty']\n",
        "print(\"Starting model train..\")\n",
        "rfe = RFE(RandomForestRegressor(n_estimators=100, random_state=1), 4)\n",
        "fit = rfe.fit(finaldf_train_x, finaldf_train_y)\n",
        "y_pred = fit.predict(finaldf_test_x)"
      ]
    }
  ],
  "metadata": {
    "colab": {
      "name": "Epilepsy.ipynb",
      "provenance": []
    },
    "kernelspec": {
      "display_name": "Python 3",
      "name": "python3"
    },
    "language_info": {
      "name": "python"
    }
  },
  "nbformat": 4,
  "nbformat_minor": 0
}